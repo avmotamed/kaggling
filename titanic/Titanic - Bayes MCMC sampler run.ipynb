{
 "cells": [
  {
   "cell_type": "markdown",
   "metadata": {},
   "source": [
    "# Titanic - Kaggle Competition: A trial run w Bayes"
   ]
  },
  {
   "cell_type": "markdown",
   "metadata": {},
   "source": [
    "## Overview\n",
    "This is an initial run through a Kaggle competition using a well known data set - passenger information from the Titanic and who survived.\n",
    "\n",
    "The objective is to use machine learning to predict who would survive as a way of getting comfortable with how to submit entries to Kaggle."
   ]
  },
  {
   "cell_type": "markdown",
   "metadata": {},
   "source": [
    "### Data Dictionary\n",
    "\n",
    "Variable\tDefinition\tKey\n",
    "\n",
    "survival\tSurvival\t0 = No, 1 = Yes \n",
    "\n",
    "pclass\tTicket class\t1 = 1st, 2 = 2nd, 3 = 3rd\n",
    "\n",
    "sex\tSex\t\n",
    "Age\tAge in years\t\n",
    "sibsp\t# of siblings / spouses aboard the Titanic\t\n",
    "parch\t# of parents / children aboard the Titanic\t\n",
    "ticket\tTicket number\t\n",
    "fare\tPassenger fare\t\n",
    "cabin\tCabin number\t\n",
    "embarked\tPort of Embarkation\tC = Cherbourg, Q = Queenstown, S = Southampton\n",
    "\n",
    "\n",
    "### Variable Notes\n",
    "\n",
    "pclass: A proxy for socio-economic status (SES)\n",
    "1st = Upper\n",
    "2nd = Middle\n",
    "3rd = Lower\n",
    "\n",
    "age: Age is fractional if less than 1. If the age is estimated, is it in the form of xx.5\n",
    "\n",
    "sibsp: The dataset defines family relations in this way...\n",
    "Sibling = brother, sister, stepbrother, stepsister\n",
    "Spouse = husband, wife (mistresses and fiancés were ignored)\n",
    "\n",
    "parch: The dataset defines family relations in this way...\n",
    "Parent = mother, father\n",
    "Child = daughter, son, stepdaughter, stepson\n",
    "Some children travelled only with a nanny, therefore parch=0 for them.\n",
    "\n"
   ]
  },
  {
   "cell_type": "markdown",
   "metadata": {},
   "source": [
    "## Load and prep the data"
   ]
  },
  {
   "cell_type": "code",
   "execution_count": 1,
   "metadata": {
    "collapsed": true
   },
   "outputs": [],
   "source": [
    "import pandas as pd\n",
    "import numpy as np\n",
    "import datetime\n",
    "import seaborn as sns\n",
    "import matplotlib.pyplot as plt\n",
    "# from mpl_toolkits.mplot3d import Axes3D\n",
    "plt.style.use('ggplot')\n",
    "%matplotlib inline\n",
    "\n",
    "# signoid function, set as global lambda expression for use throughout\n",
    "sig = lambda x: 1./(1+np.exp(-x))"
   ]
  },
  {
   "cell_type": "code",
   "execution_count": 2,
   "metadata": {},
   "outputs": [
    {
     "data": {
      "text/html": [
       "<div>\n",
       "<table border=\"1\" class=\"dataframe\">\n",
       "  <thead>\n",
       "    <tr style=\"text-align: right;\">\n",
       "      <th></th>\n",
       "      <th>PassengerId</th>\n",
       "      <th>Survived</th>\n",
       "      <th>Pclass</th>\n",
       "      <th>Name</th>\n",
       "      <th>Sex</th>\n",
       "      <th>Age</th>\n",
       "      <th>SibSp</th>\n",
       "      <th>Parch</th>\n",
       "      <th>Ticket</th>\n",
       "      <th>Fare</th>\n",
       "      <th>Cabin</th>\n",
       "      <th>Embarked</th>\n",
       "    </tr>\n",
       "  </thead>\n",
       "  <tbody>\n",
       "    <tr>\n",
       "      <th>888</th>\n",
       "      <td>889</td>\n",
       "      <td>0</td>\n",
       "      <td>3</td>\n",
       "      <td>Johnston, Miss. Catherine Helen \"Carrie\"</td>\n",
       "      <td>female</td>\n",
       "      <td>NaN</td>\n",
       "      <td>1</td>\n",
       "      <td>2</td>\n",
       "      <td>W./C. 6607</td>\n",
       "      <td>23.45</td>\n",
       "      <td>NaN</td>\n",
       "      <td>S</td>\n",
       "    </tr>\n",
       "    <tr>\n",
       "      <th>889</th>\n",
       "      <td>890</td>\n",
       "      <td>1</td>\n",
       "      <td>1</td>\n",
       "      <td>Behr, Mr. Karl Howell</td>\n",
       "      <td>male</td>\n",
       "      <td>26.0</td>\n",
       "      <td>0</td>\n",
       "      <td>0</td>\n",
       "      <td>111369</td>\n",
       "      <td>30.00</td>\n",
       "      <td>C148</td>\n",
       "      <td>C</td>\n",
       "    </tr>\n",
       "    <tr>\n",
       "      <th>890</th>\n",
       "      <td>891</td>\n",
       "      <td>0</td>\n",
       "      <td>3</td>\n",
       "      <td>Dooley, Mr. Patrick</td>\n",
       "      <td>male</td>\n",
       "      <td>32.0</td>\n",
       "      <td>0</td>\n",
       "      <td>0</td>\n",
       "      <td>370376</td>\n",
       "      <td>7.75</td>\n",
       "      <td>NaN</td>\n",
       "      <td>Q</td>\n",
       "    </tr>\n",
       "  </tbody>\n",
       "</table>\n",
       "</div>"
      ],
      "text/plain": [
       "     PassengerId  Survived  Pclass                                      Name  \\\n",
       "888          889         0       3  Johnston, Miss. Catherine Helen \"Carrie\"   \n",
       "889          890         1       1                     Behr, Mr. Karl Howell   \n",
       "890          891         0       3                       Dooley, Mr. Patrick   \n",
       "\n",
       "        Sex   Age  SibSp  Parch      Ticket   Fare Cabin Embarked  \n",
       "888  female   NaN      1      2  W./C. 6607  23.45   NaN        S  \n",
       "889    male  26.0      0      0      111369  30.00  C148        C  \n",
       "890    male  32.0      0      0      370376   7.75   NaN        Q  "
      ]
     },
     "execution_count": 2,
     "metadata": {},
     "output_type": "execute_result"
    }
   ],
   "source": [
    "# load the data\n",
    "train= pd.read_csv('train.csv')\n",
    "test = pd.read_csv('test.csv')\n",
    "train.tail(3)"
   ]
  },
  {
   "cell_type": "code",
   "execution_count": 3,
   "metadata": {},
   "outputs": [
    {
     "data": {
      "text/html": [
       "<div>\n",
       "<table border=\"1\" class=\"dataframe\">\n",
       "  <thead>\n",
       "    <tr style=\"text-align: right;\">\n",
       "      <th></th>\n",
       "      <th>PassengerId</th>\n",
       "      <th>Pclass</th>\n",
       "      <th>Name</th>\n",
       "      <th>Sex</th>\n",
       "      <th>Age</th>\n",
       "      <th>SibSp</th>\n",
       "      <th>Parch</th>\n",
       "      <th>Ticket</th>\n",
       "      <th>Fare</th>\n",
       "      <th>Cabin</th>\n",
       "      <th>Embarked</th>\n",
       "    </tr>\n",
       "  </thead>\n",
       "  <tbody>\n",
       "    <tr>\n",
       "      <th>0</th>\n",
       "      <td>892</td>\n",
       "      <td>3</td>\n",
       "      <td>Kelly, Mr. James</td>\n",
       "      <td>male</td>\n",
       "      <td>34.5</td>\n",
       "      <td>0</td>\n",
       "      <td>0</td>\n",
       "      <td>330911</td>\n",
       "      <td>7.8292</td>\n",
       "      <td>NaN</td>\n",
       "      <td>Q</td>\n",
       "    </tr>\n",
       "    <tr>\n",
       "      <th>1</th>\n",
       "      <td>893</td>\n",
       "      <td>3</td>\n",
       "      <td>Wilkes, Mrs. James (Ellen Needs)</td>\n",
       "      <td>female</td>\n",
       "      <td>47.0</td>\n",
       "      <td>1</td>\n",
       "      <td>0</td>\n",
       "      <td>363272</td>\n",
       "      <td>7.0000</td>\n",
       "      <td>NaN</td>\n",
       "      <td>S</td>\n",
       "    </tr>\n",
       "    <tr>\n",
       "      <th>2</th>\n",
       "      <td>894</td>\n",
       "      <td>2</td>\n",
       "      <td>Myles, Mr. Thomas Francis</td>\n",
       "      <td>male</td>\n",
       "      <td>62.0</td>\n",
       "      <td>0</td>\n",
       "      <td>0</td>\n",
       "      <td>240276</td>\n",
       "      <td>9.6875</td>\n",
       "      <td>NaN</td>\n",
       "      <td>Q</td>\n",
       "    </tr>\n",
       "    <tr>\n",
       "      <th>3</th>\n",
       "      <td>895</td>\n",
       "      <td>3</td>\n",
       "      <td>Wirz, Mr. Albert</td>\n",
       "      <td>male</td>\n",
       "      <td>27.0</td>\n",
       "      <td>0</td>\n",
       "      <td>0</td>\n",
       "      <td>315154</td>\n",
       "      <td>8.6625</td>\n",
       "      <td>NaN</td>\n",
       "      <td>S</td>\n",
       "    </tr>\n",
       "    <tr>\n",
       "      <th>4</th>\n",
       "      <td>896</td>\n",
       "      <td>3</td>\n",
       "      <td>Hirvonen, Mrs. Alexander (Helga E Lindqvist)</td>\n",
       "      <td>female</td>\n",
       "      <td>22.0</td>\n",
       "      <td>1</td>\n",
       "      <td>1</td>\n",
       "      <td>3101298</td>\n",
       "      <td>12.2875</td>\n",
       "      <td>NaN</td>\n",
       "      <td>S</td>\n",
       "    </tr>\n",
       "  </tbody>\n",
       "</table>\n",
       "</div>"
      ],
      "text/plain": [
       "   PassengerId  Pclass                                          Name     Sex  \\\n",
       "0          892       3                              Kelly, Mr. James    male   \n",
       "1          893       3              Wilkes, Mrs. James (Ellen Needs)  female   \n",
       "2          894       2                     Myles, Mr. Thomas Francis    male   \n",
       "3          895       3                              Wirz, Mr. Albert    male   \n",
       "4          896       3  Hirvonen, Mrs. Alexander (Helga E Lindqvist)  female   \n",
       "\n",
       "    Age  SibSp  Parch   Ticket     Fare Cabin Embarked  \n",
       "0  34.5      0      0   330911   7.8292   NaN        Q  \n",
       "1  47.0      1      0   363272   7.0000   NaN        S  \n",
       "2  62.0      0      0   240276   9.6875   NaN        Q  \n",
       "3  27.0      0      0   315154   8.6625   NaN        S  \n",
       "4  22.0      1      1  3101298  12.2875   NaN        S  "
      ]
     },
     "execution_count": 3,
     "metadata": {},
     "output_type": "execute_result"
    }
   ],
   "source": [
    "test.head()"
   ]
  },
  {
   "cell_type": "code",
   "execution_count": 4,
   "metadata": {
    "collapsed": true
   },
   "outputs": [],
   "source": [
    "# Save 'Survived' column into Y_train\n",
    "Y_train = train['Survived']"
   ]
  },
  {
   "cell_type": "code",
   "execution_count": 5,
   "metadata": {
    "collapsed": true
   },
   "outputs": [],
   "source": [
    "# merge data sets for transformations, now that survived stripped out\n",
    "data = train.append(test)\n",
    "data.reset_index(inplace=True)\n",
    "data.drop('index',inplace=True,axis=1)"
   ]
  },
  {
   "cell_type": "markdown",
   "metadata": {},
   "source": [
    "### Take a quick look at what we have\n",
    "The first thing we will do is take a look at the data types and how much data is missing (null data) from each column."
   ]
  },
  {
   "cell_type": "code",
   "execution_count": 6,
   "metadata": {},
   "outputs": [
    {
     "name": "stdout",
     "output_type": "stream",
     "text": [
      "<class 'pandas.core.frame.DataFrame'>\n",
      "RangeIndex: 1309 entries, 0 to 1308\n",
      "Data columns (total 12 columns):\n",
      "Age            1046 non-null float64\n",
      "Cabin          295 non-null object\n",
      "Embarked       1307 non-null object\n",
      "Fare           1308 non-null float64\n",
      "Name           1309 non-null object\n",
      "Parch          1309 non-null int64\n",
      "PassengerId    1309 non-null int64\n",
      "Pclass         1309 non-null int64\n",
      "Sex            1309 non-null object\n",
      "SibSp          1309 non-null int64\n",
      "Survived       891 non-null float64\n",
      "Ticket         1309 non-null object\n",
      "dtypes: float64(3), int64(4), object(5)\n",
      "memory usage: 122.8+ KB\n"
     ]
    }
   ],
   "source": [
    "data.info()"
   ]
  },
  {
   "cell_type": "code",
   "execution_count": 7,
   "metadata": {},
   "outputs": [
    {
     "data": {
      "text/plain": [
       "Age             263\n",
       "Cabin          1014\n",
       "Embarked          2\n",
       "Fare              1\n",
       "Name              0\n",
       "Parch             0\n",
       "PassengerId       0\n",
       "Pclass            0\n",
       "Sex               0\n",
       "SibSp             0\n",
       "Survived        418\n",
       "Ticket            0\n",
       "dtype: int64"
      ]
     },
     "execution_count": 7,
     "metadata": {},
     "output_type": "execute_result"
    }
   ],
   "source": [
    "# looking at the signficant missing data (age and cabin),\n",
    "# an approach to impute the values will need to be explored.\n",
    "\n",
    "data.isnull().sum()"
   ]
  },
  {
   "cell_type": "code",
   "execution_count": 8,
   "metadata": {},
   "outputs": [
    {
     "data": {
      "text/plain": [
       "0.774637127578304"
      ]
     },
     "execution_count": 8,
     "metadata": {},
     "output_type": "execute_result"
    }
   ],
   "source": [
    "# Cabin data is missing for 77% of the data\n",
    "# leave this off the table for now, as no real measure to impute any useful information\n",
    "# possibly use other data sources to fill in gaps\n",
    "1014/1309."
   ]
  },
  {
   "cell_type": "markdown",
   "metadata": {},
   "source": [
    "## Feature Engineering: Break down names by title"
   ]
  },
  {
   "cell_type": "code",
   "execution_count": 9,
   "metadata": {
    "collapsed": true
   },
   "outputs": [],
   "source": [
    "# dictionary to classify titles into major categories\n",
    "titles = {  'Capt':        'Professional',\n",
    "            'Col':         'Professional',\n",
    "            'Major':       'Professional',\n",
    "            'Jonkheer':    'Royal',\n",
    "            'Don':         'Royal',\n",
    "            'Sir' :        'Royal',\n",
    "            'Dr':          'Professional',\n",
    "            'Rev':         'Professional',\n",
    "            'the Countess':'Royal',\n",
    "            'Dona':        'Royal',\n",
    "            'Mme':         'Mrs',\n",
    "            'Mlle':        'Miss',\n",
    "            'Ms':          'Mrs',\n",
    "            'Mr' :         'Mr',\n",
    "            'Mrs' :        'Mrs',\n",
    "            'Miss' :       'Miss',\n",
    "            'Master' :     'Master',\n",
    "            'Lady' :       'Royal'\n",
    "            }\n",
    "\n",
    "# Title is between first comman and next period (e.g. , Mr. )\n",
    "data['Title'] = data['Name'].map(lambda name:name.split(',')[1]\\\n",
    "                                 .split('.')[0].strip()).map(titles)\n",
    "    "
   ]
  },
  {
   "cell_type": "code",
   "execution_count": 10,
   "metadata": {},
   "outputs": [
    {
     "data": {
      "text/plain": [
       "array(['Mr', 'Mrs', 'Miss', 'Master', 'Royal', 'Professional'], dtype=object)"
      ]
     },
     "execution_count": 10,
     "metadata": {},
     "output_type": "execute_result"
    }
   ],
   "source": [
    "data['Title'].unique()"
   ]
  },
  {
   "cell_type": "code",
   "execution_count": 11,
   "metadata": {},
   "outputs": [
    {
     "data": {
      "text/html": [
       "<div>\n",
       "<table border=\"1\" class=\"dataframe\">\n",
       "  <thead>\n",
       "    <tr style=\"text-align: right;\">\n",
       "      <th></th>\n",
       "      <th></th>\n",
       "      <th></th>\n",
       "      <th>Age</th>\n",
       "      <th>Fare</th>\n",
       "      <th>Parch</th>\n",
       "      <th>PassengerId</th>\n",
       "      <th>SibSp</th>\n",
       "      <th>Survived</th>\n",
       "    </tr>\n",
       "    <tr>\n",
       "      <th>Sex</th>\n",
       "      <th>Pclass</th>\n",
       "      <th>Title</th>\n",
       "      <th></th>\n",
       "      <th></th>\n",
       "      <th></th>\n",
       "      <th></th>\n",
       "      <th></th>\n",
       "      <th></th>\n",
       "    </tr>\n",
       "  </thead>\n",
       "  <tbody>\n",
       "    <tr>\n",
       "      <th rowspan=\"8\" valign=\"top\">female</th>\n",
       "      <th rowspan=\"4\" valign=\"top\">1</th>\n",
       "      <th>Miss</th>\n",
       "      <td>30.0</td>\n",
       "      <td>99.9625</td>\n",
       "      <td>0.0</td>\n",
       "      <td>529.5</td>\n",
       "      <td>0.0</td>\n",
       "      <td>1.0</td>\n",
       "    </tr>\n",
       "    <tr>\n",
       "      <th>Mrs</th>\n",
       "      <td>45.0</td>\n",
       "      <td>78.1125</td>\n",
       "      <td>0.0</td>\n",
       "      <td>853.5</td>\n",
       "      <td>1.0</td>\n",
       "      <td>1.0</td>\n",
       "    </tr>\n",
       "    <tr>\n",
       "      <th>Professional</th>\n",
       "      <td>49.0</td>\n",
       "      <td>25.9292</td>\n",
       "      <td>0.0</td>\n",
       "      <td>797.0</td>\n",
       "      <td>0.0</td>\n",
       "      <td>1.0</td>\n",
       "    </tr>\n",
       "    <tr>\n",
       "      <th>Royal</th>\n",
       "      <td>39.0</td>\n",
       "      <td>86.5000</td>\n",
       "      <td>0.0</td>\n",
       "      <td>760.0</td>\n",
       "      <td>0.0</td>\n",
       "      <td>1.0</td>\n",
       "    </tr>\n",
       "    <tr>\n",
       "      <th rowspan=\"2\" valign=\"top\">2</th>\n",
       "      <th>Miss</th>\n",
       "      <td>20.0</td>\n",
       "      <td>20.2500</td>\n",
       "      <td>0.0</td>\n",
       "      <td>606.5</td>\n",
       "      <td>0.0</td>\n",
       "      <td>1.0</td>\n",
       "    </tr>\n",
       "    <tr>\n",
       "      <th>Mrs</th>\n",
       "      <td>30.0</td>\n",
       "      <td>26.0000</td>\n",
       "      <td>0.0</td>\n",
       "      <td>533.0</td>\n",
       "      <td>1.0</td>\n",
       "      <td>1.0</td>\n",
       "    </tr>\n",
       "    <tr>\n",
       "      <th rowspan=\"2\" valign=\"top\">3</th>\n",
       "      <th>Miss</th>\n",
       "      <td>18.0</td>\n",
       "      <td>8.0500</td>\n",
       "      <td>0.0</td>\n",
       "      <td>603.5</td>\n",
       "      <td>0.0</td>\n",
       "      <td>0.5</td>\n",
       "    </tr>\n",
       "    <tr>\n",
       "      <th>Mrs</th>\n",
       "      <td>31.0</td>\n",
       "      <td>15.5000</td>\n",
       "      <td>1.0</td>\n",
       "      <td>668.5</td>\n",
       "      <td>1.0</td>\n",
       "      <td>0.5</td>\n",
       "    </tr>\n",
       "    <tr>\n",
       "      <th rowspan=\"9\" valign=\"top\">male</th>\n",
       "      <th rowspan=\"4\" valign=\"top\">1</th>\n",
       "      <th>Master</th>\n",
       "      <td>6.0</td>\n",
       "      <td>134.5000</td>\n",
       "      <td>2.0</td>\n",
       "      <td>803.0</td>\n",
       "      <td>1.0</td>\n",
       "      <td>1.0</td>\n",
       "    </tr>\n",
       "    <tr>\n",
       "      <th>Mr</th>\n",
       "      <td>41.5</td>\n",
       "      <td>47.1000</td>\n",
       "      <td>0.0</td>\n",
       "      <td>634.0</td>\n",
       "      <td>0.0</td>\n",
       "      <td>0.0</td>\n",
       "    </tr>\n",
       "    <tr>\n",
       "      <th>Professional</th>\n",
       "      <td>52.0</td>\n",
       "      <td>37.5500</td>\n",
       "      <td>0.0</td>\n",
       "      <td>678.0</td>\n",
       "      <td>0.0</td>\n",
       "      <td>0.0</td>\n",
       "    </tr>\n",
       "    <tr>\n",
       "      <th>Royal</th>\n",
       "      <td>40.0</td>\n",
       "      <td>27.7208</td>\n",
       "      <td>0.0</td>\n",
       "      <td>600.0</td>\n",
       "      <td>0.0</td>\n",
       "      <td>0.0</td>\n",
       "    </tr>\n",
       "    <tr>\n",
       "      <th rowspan=\"3\" valign=\"top\">2</th>\n",
       "      <th>Master</th>\n",
       "      <td>2.0</td>\n",
       "      <td>26.0000</td>\n",
       "      <td>1.0</td>\n",
       "      <td>550.0</td>\n",
       "      <td>1.0</td>\n",
       "      <td>1.0</td>\n",
       "    </tr>\n",
       "    <tr>\n",
       "      <th>Mr</th>\n",
       "      <td>30.0</td>\n",
       "      <td>13.0000</td>\n",
       "      <td>0.0</td>\n",
       "      <td>723.5</td>\n",
       "      <td>0.0</td>\n",
       "      <td>0.0</td>\n",
       "    </tr>\n",
       "    <tr>\n",
       "      <th>Professional</th>\n",
       "      <td>41.5</td>\n",
       "      <td>13.0000</td>\n",
       "      <td>0.0</td>\n",
       "      <td>513.0</td>\n",
       "      <td>0.0</td>\n",
       "      <td>0.0</td>\n",
       "    </tr>\n",
       "    <tr>\n",
       "      <th rowspan=\"2\" valign=\"top\">3</th>\n",
       "      <th>Master</th>\n",
       "      <td>6.0</td>\n",
       "      <td>22.3583</td>\n",
       "      <td>1.0</td>\n",
       "      <td>789.0</td>\n",
       "      <td>3.0</td>\n",
       "      <td>0.0</td>\n",
       "    </tr>\n",
       "    <tr>\n",
       "      <th>Mr</th>\n",
       "      <td>26.0</td>\n",
       "      <td>7.8958</td>\n",
       "      <td>0.0</td>\n",
       "      <td>640.5</td>\n",
       "      <td>0.0</td>\n",
       "      <td>0.0</td>\n",
       "    </tr>\n",
       "  </tbody>\n",
       "</table>\n",
       "</div>"
      ],
      "text/plain": [
       "                             Age      Fare  Parch  PassengerId  SibSp  \\\n",
       "Sex    Pclass Title                                                     \n",
       "female 1      Miss          30.0   99.9625    0.0        529.5    0.0   \n",
       "              Mrs           45.0   78.1125    0.0        853.5    1.0   \n",
       "              Professional  49.0   25.9292    0.0        797.0    0.0   \n",
       "              Royal         39.0   86.5000    0.0        760.0    0.0   \n",
       "       2      Miss          20.0   20.2500    0.0        606.5    0.0   \n",
       "              Mrs           30.0   26.0000    0.0        533.0    1.0   \n",
       "       3      Miss          18.0    8.0500    0.0        603.5    0.0   \n",
       "              Mrs           31.0   15.5000    1.0        668.5    1.0   \n",
       "male   1      Master         6.0  134.5000    2.0        803.0    1.0   \n",
       "              Mr            41.5   47.1000    0.0        634.0    0.0   \n",
       "              Professional  52.0   37.5500    0.0        678.0    0.0   \n",
       "              Royal         40.0   27.7208    0.0        600.0    0.0   \n",
       "       2      Master         2.0   26.0000    1.0        550.0    1.0   \n",
       "              Mr            30.0   13.0000    0.0        723.5    0.0   \n",
       "              Professional  41.5   13.0000    0.0        513.0    0.0   \n",
       "       3      Master         6.0   22.3583    1.0        789.0    3.0   \n",
       "              Mr            26.0    7.8958    0.0        640.5    0.0   \n",
       "\n",
       "                            Survived  \n",
       "Sex    Pclass Title                   \n",
       "female 1      Miss               1.0  \n",
       "              Mrs                1.0  \n",
       "              Professional       1.0  \n",
       "              Royal              1.0  \n",
       "       2      Miss               1.0  \n",
       "              Mrs                1.0  \n",
       "       3      Miss               0.5  \n",
       "              Mrs                0.5  \n",
       "male   1      Master             1.0  \n",
       "              Mr                 0.0  \n",
       "              Professional       0.0  \n",
       "              Royal              0.0  \n",
       "       2      Master             1.0  \n",
       "              Mr                 0.0  \n",
       "              Professional       0.0  \n",
       "       3      Master             0.0  \n",
       "              Mr                 0.0  "
      ]
     },
     "execution_count": 11,
     "metadata": {},
     "output_type": "execute_result"
    }
   ],
   "source": [
    "# look at median age by gender, class and title\n",
    "ages = data.groupby(['Sex','Pclass','Title'])\n",
    "ages.median()"
   ]
  },
  {
   "cell_type": "code",
   "execution_count": 12,
   "metadata": {
    "collapsed": true
   },
   "outputs": [],
   "source": [
    "# impute missing ages by groupong by gender, class and title\n",
    "data['Age'] = data.groupby(['Sex','Pclass','Title'])['Age'].transform(lambda x:\n",
    "                                                                x.fillna(x.median()))\n"
   ]
  },
  {
   "cell_type": "code",
   "execution_count": 13,
   "metadata": {},
   "outputs": [
    {
     "data": {
      "text/plain": [
       "Age               0\n",
       "Cabin          1014\n",
       "Embarked          2\n",
       "Fare              1\n",
       "Name              0\n",
       "Parch             0\n",
       "PassengerId       0\n",
       "Pclass            0\n",
       "Sex               0\n",
       "SibSp             0\n",
       "Survived        418\n",
       "Ticket            0\n",
       "Title             0\n",
       "dtype: int64"
      ]
     },
     "execution_count": 13,
     "metadata": {},
     "output_type": "execute_result"
    }
   ],
   "source": [
    "# with Age imputed, leave cabin as is for now\n",
    "data.isnull().sum()"
   ]
  },
  {
   "cell_type": "markdown",
   "metadata": {
    "collapsed": true
   },
   "source": [
    "## Feature Engineering: Categorize by Family Size"
   ]
  },
  {
   "cell_type": "code",
   "execution_count": 14,
   "metadata": {
    "collapsed": true
   },
   "outputs": [],
   "source": [
    "data['Family'] = data['Parch'] + data['SibSp'] + 1"
   ]
  },
  {
   "cell_type": "code",
   "execution_count": 15,
   "metadata": {},
   "outputs": [
    {
     "data": {
      "text/plain": [
       "1     790\n",
       "2     235\n",
       "3     159\n",
       "4      43\n",
       "6      25\n",
       "5      22\n",
       "7      16\n",
       "11     11\n",
       "8       8\n",
       "Name: Family, dtype: int64"
      ]
     },
     "execution_count": 15,
     "metadata": {},
     "output_type": "execute_result"
    }
   ],
   "source": [
    "# numbers don't sum completey because the passenger list is not complete\n",
    "data['Family'].value_counts()"
   ]
  },
  {
   "cell_type": "code",
   "execution_count": 16,
   "metadata": {
    "collapsed": true
   },
   "outputs": [],
   "source": [
    "data['Family_cat'] = data['Family'].map(lambda s :\n",
    "                                    'alone' if s == 1 else 'small' if s < 5 else 'large')"
   ]
  },
  {
   "cell_type": "code",
   "execution_count": 17,
   "metadata": {},
   "outputs": [
    {
     "data": {
      "text/plain": [
       "alone    790\n",
       "small    437\n",
       "large     82\n",
       "Name: Family_cat, dtype: int64"
      ]
     },
     "execution_count": 17,
     "metadata": {},
     "output_type": "execute_result"
    }
   ],
   "source": [
    "data['Family_cat'].value_counts()"
   ]
  },
  {
   "cell_type": "markdown",
   "metadata": {},
   "source": [
    "## A look at major categories survival rate"
   ]
  },
  {
   "cell_type": "code",
   "execution_count": 18,
   "metadata": {
    "scrolled": false
   },
   "outputs": [
    {
     "data": {
      "image/png": "[encoded data removed]",
      "text/plain": [
       "<matplotlib.figure.Figure at 0x11a1a5550>"
      ]
     },
     "metadata": {},
     "output_type": "display_data"
    }
   ],
   "source": [
    "fig, ax2 = plt.subplots(3,2, figsize=(16,10))\n",
    "category = 'Survival by Gender, Age, Class'\n",
    "\n",
    "# set bin sizes to b the same\n",
    "binBoundaries = np.linspace(0,80,9)\n",
    "\n",
    "def details(j):\n",
    "    if j == 0:\n",
    "        pclass = 'First'\n",
    "    elif j == 1:\n",
    "        pclass = 'Second'\n",
    "    else:\n",
    "        pclass = 'Third'\n",
    "    # sets titles for each subplot\n",
    "    ax2[j][0].set_title('{0} Class # Survivors'.format(pclass))\n",
    "    ax2[j][1].set_title('{0} Class # Deaths'.format(pclass)) \n",
    "    # sets common scale on all charts\n",
    "    ax2[j][0].set_ylim(0,200)\n",
    "    ax2[j][1].set_ylim(0,200)\n",
    "    # turn on legends\n",
    "    ax2[i][0].legend()\n",
    "    ax2[j][1].legend()\n",
    "\n",
    "for i in range(0,3):\n",
    "    # survivors\n",
    "    ax2[i][0].hist([data[(data['Survived']==1)&(data['Pclass']==i+1)&\n",
    "                            (data['Sex']=='male')]['Age'], data[(data['Survived']==1)&\n",
    "                            (data['Pclass']==i+1)&(data['Sex']=='female')]['Age']],\n",
    "                             stacked=True, color = ['g','b'], bins = binBoundaries,\n",
    "                             label = ['Male','Female'], alpha = 0.6)   \n",
    "    # deaths\n",
    "    ax2[i][1].hist([data[(data['Survived']==0)&(data['Pclass']==i+1)&\n",
    "                            (data['Sex']=='male')]['Age'], data[(data['Survived']==0)&\n",
    "                            (data['Pclass']==i+1)&(data['Sex']=='female')]['Age']],\n",
    "                             stacked=True, color = ['g','b'], bins = binBoundaries,\n",
    "                             label = ['Male','Female'], alpha = 0.6)\n",
    "    # set graph lables/titles, etc\n",
    "    details(i)\n",
    "\n",
    "# font size for main title\n",
    "fig.suptitle(category, fontsize=30);"
   ]
  },
  {
   "cell_type": "markdown",
   "metadata": {},
   "source": [
    "## Feature Engineering: Creating Age Brackets/Buckets"
   ]
  },
  {
   "cell_type": "code",
   "execution_count": 19,
   "metadata": {
    "collapsed": true
   },
   "outputs": [],
   "source": [
    "data['Age_cat'] = data['Age'].map(lambda a: '0-5' if a < 6 else '6-15' if a <16 else '16-25'\n",
    "                                    if a < 26 else '26-35' if a <36 else '36-45' if a < 46\n",
    "                                    else '46+')"
   ]
  },
  {
   "cell_type": "code",
   "execution_count": 20,
   "metadata": {},
   "outputs": [
    {
     "data": {
      "text/plain": [
       "26-35    449\n",
       "16-25    377\n",
       "36-45    206\n",
       "46+      154\n",
       "6-15      67\n",
       "0-5       56\n",
       "Name: Age_cat, dtype: int64"
      ]
     },
     "execution_count": 20,
     "metadata": {},
     "output_type": "execute_result"
    }
   ],
   "source": [
    "data['Age_cat'].value_counts()"
   ]
  },
  {
   "cell_type": "markdown",
   "metadata": {},
   "source": [
    "### Ticket Data\n",
    "Let's take a look at the ticket data to see how we may be able to use it."
   ]
  },
  {
   "cell_type": "code",
   "execution_count": 21,
   "metadata": {},
   "outputs": [
    {
     "data": {
      "text/plain": [
       "CA. 2343         11\n",
       "CA 2144           8\n",
       "1601              8\n",
       "S.O.C. 14879      7\n",
       "PC 17608          7\n",
       "347077            7\n",
       "347082            7\n",
       "3101295           7\n",
       "347088            6\n",
       "113781            6\n",
       "382652            6\n",
       "19950             6\n",
       "16966             5\n",
       "PC 17757          5\n",
       "W./C. 6608        5\n",
       "349909            5\n",
       "113503            5\n",
       "220845            5\n",
       "4133              5\n",
       "PC 17760          4\n",
       "PC 17755          4\n",
       "24160             4\n",
       "LINE              4\n",
       "17421             4\n",
       "230136            4\n",
       "12749             4\n",
       "SC/Paris 2123     4\n",
       "113760            4\n",
       "36928             4\n",
       "C.A. 34651        4\n",
       "                 ..\n",
       "C.A. 24579        1\n",
       "347062            1\n",
       "323951            1\n",
       "233478            1\n",
       "315088            1\n",
       "248723            1\n",
       "347079            1\n",
       "248726            1\n",
       "347074            1\n",
       "347075            1\n",
       "347076            1\n",
       "C.A. 18723        1\n",
       "250652            1\n",
       "347073            1\n",
       "330935            1\n",
       "248659            1\n",
       "330932            1\n",
       "330931            1\n",
       "233866            1\n",
       "345498            1\n",
       "362316            1\n",
       "382653            1\n",
       "382651            1\n",
       "382650            1\n",
       "373450            1\n",
       "364859            1\n",
       "240261            1\n",
       "31028             1\n",
       "3101276           1\n",
       "SCO/W 1585        1\n",
       "Name: Ticket, dtype: int64"
      ]
     },
     "execution_count": 21,
     "metadata": {},
     "output_type": "execute_result"
    }
   ],
   "source": [
    "data['Ticket'].value_counts()"
   ]
  },
  {
   "cell_type": "code",
   "execution_count": 22,
   "metadata": {
    "collapsed": true
   },
   "outputs": [],
   "source": [
    "data['Ticket_num'] =\\\n",
    "    data['Ticket'].apply(lambda x: pd.Series(x.split()[-1]))\n",
    "data['tick_len'] = data['Ticket_num'].apply(lambda x: pd.Series(len(x)))"
   ]
  },
  {
   "cell_type": "code",
   "execution_count": 23,
   "metadata": {},
   "outputs": [
    {
     "name": "stderr",
     "output_type": "stream",
     "text": [
      "/Users/alex/anaconda/lib/python2.7/site-packages/numpy/lib/function_base.py:3823: RuntimeWarning: Invalid value encountered in percentile\n",
      "  RuntimeWarning)\n"
     ]
    },
    {
     "data": {
      "text/html": [
       "<div>\n",
       "<table border=\"1\" class=\"dataframe\">\n",
       "  <thead>\n",
       "    <tr style=\"text-align: right;\">\n",
       "      <th></th>\n",
       "      <th>Age</th>\n",
       "      <th>Fare</th>\n",
       "      <th>Parch</th>\n",
       "      <th>PassengerId</th>\n",
       "      <th>Pclass</th>\n",
       "      <th>SibSp</th>\n",
       "      <th>Survived</th>\n",
       "      <th>Family</th>\n",
       "      <th>tick_len</th>\n",
       "    </tr>\n",
       "  </thead>\n",
       "  <tbody>\n",
       "    <tr>\n",
       "      <th>count</th>\n",
       "      <td>1309.000000</td>\n",
       "      <td>1308.000000</td>\n",
       "      <td>1309.000000</td>\n",
       "      <td>1309.000000</td>\n",
       "      <td>1309.000000</td>\n",
       "      <td>1309.000000</td>\n",
       "      <td>891.000000</td>\n",
       "      <td>1309.000000</td>\n",
       "      <td>1309.000000</td>\n",
       "    </tr>\n",
       "    <tr>\n",
       "      <th>mean</th>\n",
       "      <td>29.278205</td>\n",
       "      <td>33.295479</td>\n",
       "      <td>0.385027</td>\n",
       "      <td>655.000000</td>\n",
       "      <td>2.294882</td>\n",
       "      <td>0.498854</td>\n",
       "      <td>0.383838</td>\n",
       "      <td>1.883881</td>\n",
       "      <td>5.332315</td>\n",
       "    </tr>\n",
       "    <tr>\n",
       "      <th>std</th>\n",
       "      <td>13.446690</td>\n",
       "      <td>51.758668</td>\n",
       "      <td>0.865560</td>\n",
       "      <td>378.020061</td>\n",
       "      <td>0.837836</td>\n",
       "      <td>1.041658</td>\n",
       "      <td>0.486592</td>\n",
       "      <td>1.583639</td>\n",
       "      <td>0.902953</td>\n",
       "    </tr>\n",
       "    <tr>\n",
       "      <th>min</th>\n",
       "      <td>0.170000</td>\n",
       "      <td>0.000000</td>\n",
       "      <td>0.000000</td>\n",
       "      <td>1.000000</td>\n",
       "      <td>1.000000</td>\n",
       "      <td>0.000000</td>\n",
       "      <td>0.000000</td>\n",
       "      <td>1.000000</td>\n",
       "      <td>1.000000</td>\n",
       "    </tr>\n",
       "    <tr>\n",
       "      <th>25%</th>\n",
       "      <td>21.000000</td>\n",
       "      <td>NaN</td>\n",
       "      <td>0.000000</td>\n",
       "      <td>328.000000</td>\n",
       "      <td>2.000000</td>\n",
       "      <td>0.000000</td>\n",
       "      <td>NaN</td>\n",
       "      <td>1.000000</td>\n",
       "      <td>5.000000</td>\n",
       "    </tr>\n",
       "    <tr>\n",
       "      <th>50%</th>\n",
       "      <td>26.000000</td>\n",
       "      <td>NaN</td>\n",
       "      <td>0.000000</td>\n",
       "      <td>655.000000</td>\n",
       "      <td>3.000000</td>\n",
       "      <td>0.000000</td>\n",
       "      <td>NaN</td>\n",
       "      <td>1.000000</td>\n",
       "      <td>6.000000</td>\n",
       "    </tr>\n",
       "    <tr>\n",
       "      <th>75%</th>\n",
       "      <td>36.500000</td>\n",
       "      <td>NaN</td>\n",
       "      <td>0.000000</td>\n",
       "      <td>982.000000</td>\n",
       "      <td>3.000000</td>\n",
       "      <td>1.000000</td>\n",
       "      <td>NaN</td>\n",
       "      <td>2.000000</td>\n",
       "      <td>6.000000</td>\n",
       "    </tr>\n",
       "    <tr>\n",
       "      <th>max</th>\n",
       "      <td>80.000000</td>\n",
       "      <td>512.329200</td>\n",
       "      <td>9.000000</td>\n",
       "      <td>1309.000000</td>\n",
       "      <td>3.000000</td>\n",
       "      <td>8.000000</td>\n",
       "      <td>1.000000</td>\n",
       "      <td>11.000000</td>\n",
       "      <td>7.000000</td>\n",
       "    </tr>\n",
       "  </tbody>\n",
       "</table>\n",
       "</div>"
      ],
      "text/plain": [
       "               Age         Fare        Parch  PassengerId       Pclass  \\\n",
       "count  1309.000000  1308.000000  1309.000000  1309.000000  1309.000000   \n",
       "mean     29.278205    33.295479     0.385027   655.000000     2.294882   \n",
       "std      13.446690    51.758668     0.865560   378.020061     0.837836   \n",
       "min       0.170000     0.000000     0.000000     1.000000     1.000000   \n",
       "25%      21.000000          NaN     0.000000   328.000000     2.000000   \n",
       "50%      26.000000          NaN     0.000000   655.000000     3.000000   \n",
       "75%      36.500000          NaN     0.000000   982.000000     3.000000   \n",
       "max      80.000000   512.329200     9.000000  1309.000000     3.000000   \n",
       "\n",
       "             SibSp    Survived       Family     tick_len  \n",
       "count  1309.000000  891.000000  1309.000000  1309.000000  \n",
       "mean      0.498854    0.383838     1.883881     5.332315  \n",
       "std       1.041658    0.486592     1.583639     0.902953  \n",
       "min       0.000000    0.000000     1.000000     1.000000  \n",
       "25%       0.000000         NaN     1.000000     5.000000  \n",
       "50%       0.000000         NaN     1.000000     6.000000  \n",
       "75%       1.000000         NaN     2.000000     6.000000  \n",
       "max       8.000000    1.000000    11.000000     7.000000  "
      ]
     },
     "execution_count": 23,
     "metadata": {},
     "output_type": "execute_result"
    }
   ],
   "source": [
    "data.describe()"
   ]
  },
  {
   "cell_type": "markdown",
   "metadata": {},
   "source": [
    "## Use Seaborn pairplot to get a quick view of relationships"
   ]
  },
  {
   "cell_type": "code",
   "execution_count": 24,
   "metadata": {},
   "outputs": [
    {
     "data": {
      "image/png": "[encoded data removed]",
      "text/plain": [
       "<matplotlib.figure.Figure at 0x10b2fc110>"
      ]
     },
     "metadata": {},
     "output_type": "display_data"
    }
   ],
   "source": [
    "sns.pairplot(data=data[['Fare','Survived','Age','Sex','Family','Pclass','tick_len']],\n",
    "             hue='Survived');"
   ]
  },
  {
   "cell_type": "code",
   "execution_count": 25,
   "metadata": {},
   "outputs": [
    {
     "data": {
      "text/plain": [
       "0.0    17\n",
       "Name: Fare, dtype: int64"
      ]
     },
     "execution_count": 25,
     "metadata": {},
     "output_type": "execute_result"
    }
   ],
   "source": [
    "# 15 zero fares, is this correct, or shoudl they be imputed?\n",
    "# looking at Titanic data, some passengers did not pay a fair, either comped or company\n",
    "# sponsored, so difficult to call how to treat this\n",
    "data[data['Fare']==0.0]['Fare'].value_counts()"
   ]
  },
  {
   "cell_type": "code",
   "execution_count": 26,
   "metadata": {},
   "outputs": [
    {
     "data": {
      "image/png": "[encoded data removed]",
      "text/plain": [
       "<matplotlib.figure.Figure at 0x120fbd6d0>"
      ]
     },
     "metadata": {},
     "output_type": "display_data"
    }
   ],
   "source": [
    "# Look at distribution of ticket prices\n",
    "\n",
    "plt.hist([data[data['Pclass']==1]['Fare'],\n",
    "         data[data['Pclass']==2]['Fare'],\n",
    "         data[data['Pclass']==3]['Fare']],\n",
    "         stacked=True, color = ['g','b','y'], bins = 30,\n",
    "         label = ['1','2','3'], alpha = 0.6)\n",
    "\n",
    "plt.legend();"
   ]
  },
  {
   "cell_type": "markdown",
   "metadata": {},
   "source": [
    "## Feature Engineering: Ticket Price Buckets"
   ]
  },
  {
   "cell_type": "code",
   "execution_count": 27,
   "metadata": {
    "collapsed": true
   },
   "outputs": [],
   "source": [
    "data['Fare_cat'] = data['Fare'].map(lambda f: '0-20' if f < 21 else '21-40' if f <41\n",
    "                                      else '41-60' if f < 61 else '61-80' if f <81\n",
    "                                      else '81-100' if f < 101 else '101+')"
   ]
  },
  {
   "cell_type": "code",
   "execution_count": 28,
   "metadata": {},
   "outputs": [
    {
     "data": {
      "text/html": [
       "<div>\n",
       "<table border=\"1\" class=\"dataframe\">\n",
       "  <thead>\n",
       "    <tr style=\"text-align: right;\">\n",
       "      <th></th>\n",
       "      <th>Age</th>\n",
       "      <th>Cabin</th>\n",
       "      <th>Embarked</th>\n",
       "      <th>Fare</th>\n",
       "      <th>Name</th>\n",
       "      <th>Parch</th>\n",
       "      <th>PassengerId</th>\n",
       "      <th>Pclass</th>\n",
       "      <th>Sex</th>\n",
       "      <th>SibSp</th>\n",
       "      <th>Survived</th>\n",
       "      <th>Ticket</th>\n",
       "      <th>Title</th>\n",
       "      <th>Family</th>\n",
       "      <th>Family_cat</th>\n",
       "      <th>Age_cat</th>\n",
       "      <th>Ticket_num</th>\n",
       "      <th>tick_len</th>\n",
       "      <th>Fare_cat</th>\n",
       "    </tr>\n",
       "  </thead>\n",
       "  <tbody>\n",
       "    <tr>\n",
       "      <th>0</th>\n",
       "      <td>22.0</td>\n",
       "      <td>NaN</td>\n",
       "      <td>S</td>\n",
       "      <td>7.2500</td>\n",
       "      <td>Braund, Mr. Owen Harris</td>\n",
       "      <td>0</td>\n",
       "      <td>1</td>\n",
       "      <td>3</td>\n",
       "      <td>male</td>\n",
       "      <td>1</td>\n",
       "      <td>0.0</td>\n",
       "      <td>A/5 21171</td>\n",
       "      <td>Mr</td>\n",
       "      <td>2</td>\n",
       "      <td>small</td>\n",
       "      <td>16-25</td>\n",
       "      <td>21171</td>\n",
       "      <td>5</td>\n",
       "      <td>0-20</td>\n",
       "    </tr>\n",
       "    <tr>\n",
       "      <th>1</th>\n",
       "      <td>38.0</td>\n",
       "      <td>C85</td>\n",
       "      <td>C</td>\n",
       "      <td>71.2833</td>\n",
       "      <td>Cumings, Mrs. John Bradley (Florence Briggs Th...</td>\n",
       "      <td>0</td>\n",
       "      <td>2</td>\n",
       "      <td>1</td>\n",
       "      <td>female</td>\n",
       "      <td>1</td>\n",
       "      <td>1.0</td>\n",
       "      <td>PC 17599</td>\n",
       "      <td>Mrs</td>\n",
       "      <td>2</td>\n",
       "      <td>small</td>\n",
       "      <td>36-45</td>\n",
       "      <td>17599</td>\n",
       "      <td>5</td>\n",
       "      <td>61-80</td>\n",
       "    </tr>\n",
       "    <tr>\n",
       "      <th>2</th>\n",
       "      <td>26.0</td>\n",
       "      <td>NaN</td>\n",
       "      <td>S</td>\n",
       "      <td>7.9250</td>\n",
       "      <td>Heikkinen, Miss. Laina</td>\n",
       "      <td>0</td>\n",
       "      <td>3</td>\n",
       "      <td>3</td>\n",
       "      <td>female</td>\n",
       "      <td>0</td>\n",
       "      <td>1.0</td>\n",
       "      <td>STON/O2. 3101282</td>\n",
       "      <td>Miss</td>\n",
       "      <td>1</td>\n",
       "      <td>alone</td>\n",
       "      <td>26-35</td>\n",
       "      <td>3101282</td>\n",
       "      <td>7</td>\n",
       "      <td>0-20</td>\n",
       "    </tr>\n",
       "    <tr>\n",
       "      <th>3</th>\n",
       "      <td>35.0</td>\n",
       "      <td>C123</td>\n",
       "      <td>S</td>\n",
       "      <td>53.1000</td>\n",
       "      <td>Futrelle, Mrs. Jacques Heath (Lily May Peel)</td>\n",
       "      <td>0</td>\n",
       "      <td>4</td>\n",
       "      <td>1</td>\n",
       "      <td>female</td>\n",
       "      <td>1</td>\n",
       "      <td>1.0</td>\n",
       "      <td>113803</td>\n",
       "      <td>Mrs</td>\n",
       "      <td>2</td>\n",
       "      <td>small</td>\n",
       "      <td>26-35</td>\n",
       "      <td>113803</td>\n",
       "      <td>6</td>\n",
       "      <td>41-60</td>\n",
       "    </tr>\n",
       "    <tr>\n",
       "      <th>4</th>\n",
       "      <td>35.0</td>\n",
       "      <td>NaN</td>\n",
       "      <td>S</td>\n",
       "      <td>8.0500</td>\n",
       "      <td>Allen, Mr. William Henry</td>\n",
       "      <td>0</td>\n",
       "      <td>5</td>\n",
       "      <td>3</td>\n",
       "      <td>male</td>\n",
       "      <td>0</td>\n",
       "      <td>0.0</td>\n",
       "      <td>373450</td>\n",
       "      <td>Mr</td>\n",
       "      <td>1</td>\n",
       "      <td>alone</td>\n",
       "      <td>26-35</td>\n",
       "      <td>373450</td>\n",
       "      <td>6</td>\n",
       "      <td>0-20</td>\n",
       "    </tr>\n",
       "  </tbody>\n",
       "</table>\n",
       "</div>"
      ],
      "text/plain": [
       "    Age Cabin Embarked     Fare  \\\n",
       "0  22.0   NaN        S   7.2500   \n",
       "1  38.0   C85        C  71.2833   \n",
       "2  26.0   NaN        S   7.9250   \n",
       "3  35.0  C123        S  53.1000   \n",
       "4  35.0   NaN        S   8.0500   \n",
       "\n",
       "                                                Name  Parch  PassengerId  \\\n",
       "0                            Braund, Mr. Owen Harris      0            1   \n",
       "1  Cumings, Mrs. John Bradley (Florence Briggs Th...      0            2   \n",
       "2                             Heikkinen, Miss. Laina      0            3   \n",
       "3       Futrelle, Mrs. Jacques Heath (Lily May Peel)      0            4   \n",
       "4                           Allen, Mr. William Henry      0            5   \n",
       "\n",
       "   Pclass     Sex  SibSp  Survived            Ticket Title  Family Family_cat  \\\n",
       "0       3    male      1       0.0         A/5 21171    Mr       2      small   \n",
       "1       1  female      1       1.0          PC 17599   Mrs       2      small   \n",
       "2       3  female      0       1.0  STON/O2. 3101282  Miss       1      alone   \n",
       "3       1  female      1       1.0            113803   Mrs       2      small   \n",
       "4       3    male      0       0.0            373450    Mr       1      alone   \n",
       "\n",
       "  Age_cat Ticket_num  tick_len Fare_cat  \n",
       "0   16-25      21171         5     0-20  \n",
       "1   36-45      17599         5    61-80  \n",
       "2   26-35    3101282         7     0-20  \n",
       "3   26-35     113803         6    41-60  \n",
       "4   26-35     373450         6     0-20  "
      ]
     },
     "execution_count": 28,
     "metadata": {},
     "output_type": "execute_result"
    }
   ],
   "source": [
    "data.head()"
   ]
  },
  {
   "cell_type": "markdown",
   "metadata": {},
   "source": [
    "## Columns to remove in prep for Classificaiton Model\n",
    "\n",
    "* Passenger ID\n",
    "* Name - we have extracted title\n",
    "* Age - we have put Age into categores 'Age_cat'\n",
    "* Ticket - have created 'tick_len'\n",
    "* Fare - have created 'Fare_cat'\n",
    "* Cabin - too much missing data\n",
    "* Family - have put into larger buckets in 'Family_cat'\n",
    "* Ticket_num - used to create 'tick_len'"
   ]
  },
  {
   "cell_type": "code",
   "execution_count": 29,
   "metadata": {},
   "outputs": [
    {
     "data": {
      "text/html": [
       "<div>\n",
       "<table border=\"1\" class=\"dataframe\">\n",
       "  <thead>\n",
       "    <tr style=\"text-align: right;\">\n",
       "      <th></th>\n",
       "      <th>Age</th>\n",
       "      <th>Cabin</th>\n",
       "      <th>Embarked</th>\n",
       "      <th>Fare</th>\n",
       "      <th>Name</th>\n",
       "      <th>Parch</th>\n",
       "      <th>PassengerId</th>\n",
       "      <th>Pclass</th>\n",
       "      <th>Sex</th>\n",
       "      <th>SibSp</th>\n",
       "      <th>Survived</th>\n",
       "      <th>Ticket</th>\n",
       "      <th>Title</th>\n",
       "      <th>Family</th>\n",
       "      <th>Family_cat</th>\n",
       "      <th>Age_cat</th>\n",
       "      <th>Ticket_num</th>\n",
       "      <th>tick_len</th>\n",
       "      <th>Fare_cat</th>\n",
       "    </tr>\n",
       "  </thead>\n",
       "  <tbody>\n",
       "    <tr>\n",
       "      <th>1304</th>\n",
       "      <td>26.0</td>\n",
       "      <td>NaN</td>\n",
       "      <td>S</td>\n",
       "      <td>8.0500</td>\n",
       "      <td>Spector, Mr. Woolf</td>\n",
       "      <td>0</td>\n",
       "      <td>1305</td>\n",
       "      <td>3</td>\n",
       "      <td>male</td>\n",
       "      <td>0</td>\n",
       "      <td>NaN</td>\n",
       "      <td>A.5. 3236</td>\n",
       "      <td>Mr</td>\n",
       "      <td>1</td>\n",
       "      <td>alone</td>\n",
       "      <td>26-35</td>\n",
       "      <td>3236</td>\n",
       "      <td>4</td>\n",
       "      <td>0-20</td>\n",
       "    </tr>\n",
       "    <tr>\n",
       "      <th>1305</th>\n",
       "      <td>39.0</td>\n",
       "      <td>C105</td>\n",
       "      <td>C</td>\n",
       "      <td>108.9000</td>\n",
       "      <td>Oliva y Ocana, Dona. Fermina</td>\n",
       "      <td>0</td>\n",
       "      <td>1306</td>\n",
       "      <td>1</td>\n",
       "      <td>female</td>\n",
       "      <td>0</td>\n",
       "      <td>NaN</td>\n",
       "      <td>PC 17758</td>\n",
       "      <td>Royal</td>\n",
       "      <td>1</td>\n",
       "      <td>alone</td>\n",
       "      <td>36-45</td>\n",
       "      <td>17758</td>\n",
       "      <td>5</td>\n",
       "      <td>101+</td>\n",
       "    </tr>\n",
       "    <tr>\n",
       "      <th>1306</th>\n",
       "      <td>38.5</td>\n",
       "      <td>NaN</td>\n",
       "      <td>S</td>\n",
       "      <td>7.2500</td>\n",
       "      <td>Saether, Mr. Simon Sivertsen</td>\n",
       "      <td>0</td>\n",
       "      <td>1307</td>\n",
       "      <td>3</td>\n",
       "      <td>male</td>\n",
       "      <td>0</td>\n",
       "      <td>NaN</td>\n",
       "      <td>SOTON/O.Q. 3101262</td>\n",
       "      <td>Mr</td>\n",
       "      <td>1</td>\n",
       "      <td>alone</td>\n",
       "      <td>36-45</td>\n",
       "      <td>3101262</td>\n",
       "      <td>7</td>\n",
       "      <td>0-20</td>\n",
       "    </tr>\n",
       "    <tr>\n",
       "      <th>1307</th>\n",
       "      <td>26.0</td>\n",
       "      <td>NaN</td>\n",
       "      <td>S</td>\n",
       "      <td>8.0500</td>\n",
       "      <td>Ware, Mr. Frederick</td>\n",
       "      <td>0</td>\n",
       "      <td>1308</td>\n",
       "      <td>3</td>\n",
       "      <td>male</td>\n",
       "      <td>0</td>\n",
       "      <td>NaN</td>\n",
       "      <td>359309</td>\n",
       "      <td>Mr</td>\n",
       "      <td>1</td>\n",
       "      <td>alone</td>\n",
       "      <td>26-35</td>\n",
       "      <td>359309</td>\n",
       "      <td>6</td>\n",
       "      <td>0-20</td>\n",
       "    </tr>\n",
       "    <tr>\n",
       "      <th>1308</th>\n",
       "      <td>6.0</td>\n",
       "      <td>NaN</td>\n",
       "      <td>C</td>\n",
       "      <td>22.3583</td>\n",
       "      <td>Peter, Master. Michael J</td>\n",
       "      <td>1</td>\n",
       "      <td>1309</td>\n",
       "      <td>3</td>\n",
       "      <td>male</td>\n",
       "      <td>1</td>\n",
       "      <td>NaN</td>\n",
       "      <td>2668</td>\n",
       "      <td>Master</td>\n",
       "      <td>3</td>\n",
       "      <td>small</td>\n",
       "      <td>6-15</td>\n",
       "      <td>2668</td>\n",
       "      <td>4</td>\n",
       "      <td>21-40</td>\n",
       "    </tr>\n",
       "  </tbody>\n",
       "</table>\n",
       "</div>"
      ],
      "text/plain": [
       "       Age Cabin Embarked      Fare                          Name  Parch  \\\n",
       "1304  26.0   NaN        S    8.0500            Spector, Mr. Woolf      0   \n",
       "1305  39.0  C105        C  108.9000  Oliva y Ocana, Dona. Fermina      0   \n",
       "1306  38.5   NaN        S    7.2500  Saether, Mr. Simon Sivertsen      0   \n",
       "1307  26.0   NaN        S    8.0500           Ware, Mr. Frederick      0   \n",
       "1308   6.0   NaN        C   22.3583      Peter, Master. Michael J      1   \n",
       "\n",
       "      PassengerId  Pclass     Sex  SibSp  Survived              Ticket  \\\n",
       "1304         1305       3    male      0       NaN           A.5. 3236   \n",
       "1305         1306       1  female      0       NaN            PC 17758   \n",
       "1306         1307       3    male      0       NaN  SOTON/O.Q. 3101262   \n",
       "1307         1308       3    male      0       NaN              359309   \n",
       "1308         1309       3    male      1       NaN                2668   \n",
       "\n",
       "       Title  Family Family_cat Age_cat Ticket_num  tick_len Fare_cat  \n",
       "1304      Mr       1      alone   26-35       3236         4     0-20  \n",
       "1305   Royal       1      alone   36-45      17758         5     101+  \n",
       "1306      Mr       1      alone   36-45    3101262         7     0-20  \n",
       "1307      Mr       1      alone   26-35     359309         6     0-20  \n",
       "1308  Master       3      small    6-15       2668         4    21-40  "
      ]
     },
     "execution_count": 29,
     "metadata": {},
     "output_type": "execute_result"
    }
   ],
   "source": [
    "data.tail()"
   ]
  },
  {
   "cell_type": "code",
   "execution_count": 30,
   "metadata": {},
   "outputs": [
    {
     "data": {
      "text/html": [
       "<div>\n",
       "<table border=\"1\" class=\"dataframe\">\n",
       "  <thead>\n",
       "    <tr style=\"text-align: right;\">\n",
       "      <th></th>\n",
       "      <th>PassengerId</th>\n",
       "      <th>Survived</th>\n",
       "      <th>Pclass</th>\n",
       "      <th>Name</th>\n",
       "      <th>Sex</th>\n",
       "      <th>Age</th>\n",
       "      <th>SibSp</th>\n",
       "      <th>Parch</th>\n",
       "      <th>Ticket</th>\n",
       "      <th>Fare</th>\n",
       "      <th>Cabin</th>\n",
       "      <th>Embarked</th>\n",
       "    </tr>\n",
       "  </thead>\n",
       "  <tbody>\n",
       "    <tr>\n",
       "      <th>0</th>\n",
       "      <td>1</td>\n",
       "      <td>0</td>\n",
       "      <td>3</td>\n",
       "      <td>Braund, Mr. Owen Harris</td>\n",
       "      <td>male</td>\n",
       "      <td>22.0</td>\n",
       "      <td>1</td>\n",
       "      <td>0</td>\n",
       "      <td>A/5 21171</td>\n",
       "      <td>7.2500</td>\n",
       "      <td>NaN</td>\n",
       "      <td>S</td>\n",
       "    </tr>\n",
       "    <tr>\n",
       "      <th>1</th>\n",
       "      <td>2</td>\n",
       "      <td>1</td>\n",
       "      <td>1</td>\n",
       "      <td>Cumings, Mrs. John Bradley (Florence Briggs Th...</td>\n",
       "      <td>female</td>\n",
       "      <td>38.0</td>\n",
       "      <td>1</td>\n",
       "      <td>0</td>\n",
       "      <td>PC 17599</td>\n",
       "      <td>71.2833</td>\n",
       "      <td>C85</td>\n",
       "      <td>C</td>\n",
       "    </tr>\n",
       "    <tr>\n",
       "      <th>2</th>\n",
       "      <td>3</td>\n",
       "      <td>1</td>\n",
       "      <td>3</td>\n",
       "      <td>Heikkinen, Miss. Laina</td>\n",
       "      <td>female</td>\n",
       "      <td>26.0</td>\n",
       "      <td>0</td>\n",
       "      <td>0</td>\n",
       "      <td>STON/O2. 3101282</td>\n",
       "      <td>7.9250</td>\n",
       "      <td>NaN</td>\n",
       "      <td>S</td>\n",
       "    </tr>\n",
       "    <tr>\n",
       "      <th>3</th>\n",
       "      <td>4</td>\n",
       "      <td>1</td>\n",
       "      <td>1</td>\n",
       "      <td>Futrelle, Mrs. Jacques Heath (Lily May Peel)</td>\n",
       "      <td>female</td>\n",
       "      <td>35.0</td>\n",
       "      <td>1</td>\n",
       "      <td>0</td>\n",
       "      <td>113803</td>\n",
       "      <td>53.1000</td>\n",
       "      <td>C123</td>\n",
       "      <td>S</td>\n",
       "    </tr>\n",
       "    <tr>\n",
       "      <th>4</th>\n",
       "      <td>5</td>\n",
       "      <td>0</td>\n",
       "      <td>3</td>\n",
       "      <td>Allen, Mr. William Henry</td>\n",
       "      <td>male</td>\n",
       "      <td>35.0</td>\n",
       "      <td>0</td>\n",
       "      <td>0</td>\n",
       "      <td>373450</td>\n",
       "      <td>8.0500</td>\n",
       "      <td>NaN</td>\n",
       "      <td>S</td>\n",
       "    </tr>\n",
       "  </tbody>\n",
       "</table>\n",
       "</div>"
      ],
      "text/plain": [
       "   PassengerId  Survived  Pclass  \\\n",
       "0            1         0       3   \n",
       "1            2         1       1   \n",
       "2            3         1       3   \n",
       "3            4         1       1   \n",
       "4            5         0       3   \n",
       "\n",
       "                                                Name     Sex   Age  SibSp  \\\n",
       "0                            Braund, Mr. Owen Harris    male  22.0      1   \n",
       "1  Cumings, Mrs. John Bradley (Florence Briggs Th...  female  38.0      1   \n",
       "2                             Heikkinen, Miss. Laina  female  26.0      0   \n",
       "3       Futrelle, Mrs. Jacques Heath (Lily May Peel)  female  35.0      1   \n",
       "4                           Allen, Mr. William Henry    male  35.0      0   \n",
       "\n",
       "   Parch            Ticket     Fare Cabin Embarked  \n",
       "0      0         A/5 21171   7.2500   NaN        S  \n",
       "1      0          PC 17599  71.2833   C85        C  \n",
       "2      0  STON/O2. 3101282   7.9250   NaN        S  \n",
       "3      0            113803  53.1000  C123        S  \n",
       "4      0            373450   8.0500   NaN        S  "
      ]
     },
     "execution_count": 30,
     "metadata": {},
     "output_type": "execute_result"
    }
   ],
   "source": [
    "train.head()"
   ]
  },
  {
   "cell_type": "code",
   "execution_count": 31,
   "metadata": {
    "collapsed": true
   },
   "outputs": [],
   "source": [
    "# change numbers to strings before get_dummies\n",
    "\n",
    "to_num_str = ['Pclass','SibSp','Parch','tick_len']\n",
    "\n",
    "for s in to_num_str:\n",
    "    data[s] = data[s].apply(str)"
   ]
  },
  {
   "cell_type": "code",
   "execution_count": 32,
   "metadata": {
    "collapsed": true
   },
   "outputs": [],
   "source": [
    "Y_train = train['Survived']"
   ]
  },
  {
   "cell_type": "code",
   "execution_count": 33,
   "metadata": {},
   "outputs": [
    {
     "data": {
      "text/plain": [
       "891"
      ]
     },
     "execution_count": 33,
     "metadata": {},
     "output_type": "execute_result"
    }
   ],
   "source": [
    "len(Y_train)"
   ]
  },
  {
   "cell_type": "code",
   "execution_count": 34,
   "metadata": {
    "collapsed": true
   },
   "outputs": [],
   "source": [
    "data = data.drop(['PassengerId','Name','Age','Ticket','Fare','Cabin','Family','Ticket_num',\n",
    "                  'Survived'],1)"
   ]
  },
  {
   "cell_type": "code",
   "execution_count": 35,
   "metadata": {},
   "outputs": [
    {
     "data": {
      "text/html": [
       "<div>\n",
       "<table border=\"1\" class=\"dataframe\">\n",
       "  <thead>\n",
       "    <tr style=\"text-align: right;\">\n",
       "      <th></th>\n",
       "      <th>Embarked</th>\n",
       "      <th>Parch</th>\n",
       "      <th>Pclass</th>\n",
       "      <th>Sex</th>\n",
       "      <th>SibSp</th>\n",
       "      <th>Title</th>\n",
       "      <th>Family_cat</th>\n",
       "      <th>Age_cat</th>\n",
       "      <th>tick_len</th>\n",
       "      <th>Fare_cat</th>\n",
       "    </tr>\n",
       "  </thead>\n",
       "  <tbody>\n",
       "    <tr>\n",
       "      <th>0</th>\n",
       "      <td>S</td>\n",
       "      <td>0</td>\n",
       "      <td>3</td>\n",
       "      <td>male</td>\n",
       "      <td>1</td>\n",
       "      <td>Mr</td>\n",
       "      <td>small</td>\n",
       "      <td>16-25</td>\n",
       "      <td>5</td>\n",
       "      <td>0-20</td>\n",
       "    </tr>\n",
       "    <tr>\n",
       "      <th>1</th>\n",
       "      <td>C</td>\n",
       "      <td>0</td>\n",
       "      <td>1</td>\n",
       "      <td>female</td>\n",
       "      <td>1</td>\n",
       "      <td>Mrs</td>\n",
       "      <td>small</td>\n",
       "      <td>36-45</td>\n",
       "      <td>5</td>\n",
       "      <td>61-80</td>\n",
       "    </tr>\n",
       "    <tr>\n",
       "      <th>2</th>\n",
       "      <td>S</td>\n",
       "      <td>0</td>\n",
       "      <td>3</td>\n",
       "      <td>female</td>\n",
       "      <td>0</td>\n",
       "      <td>Miss</td>\n",
       "      <td>alone</td>\n",
       "      <td>26-35</td>\n",
       "      <td>7</td>\n",
       "      <td>0-20</td>\n",
       "    </tr>\n",
       "    <tr>\n",
       "      <th>3</th>\n",
       "      <td>S</td>\n",
       "      <td>0</td>\n",
       "      <td>1</td>\n",
       "      <td>female</td>\n",
       "      <td>1</td>\n",
       "      <td>Mrs</td>\n",
       "      <td>small</td>\n",
       "      <td>26-35</td>\n",
       "      <td>6</td>\n",
       "      <td>41-60</td>\n",
       "    </tr>\n",
       "    <tr>\n",
       "      <th>4</th>\n",
       "      <td>S</td>\n",
       "      <td>0</td>\n",
       "      <td>3</td>\n",
       "      <td>male</td>\n",
       "      <td>0</td>\n",
       "      <td>Mr</td>\n",
       "      <td>alone</td>\n",
       "      <td>26-35</td>\n",
       "      <td>6</td>\n",
       "      <td>0-20</td>\n",
       "    </tr>\n",
       "  </tbody>\n",
       "</table>\n",
       "</div>"
      ],
      "text/plain": [
       "  Embarked Parch Pclass     Sex SibSp Title Family_cat Age_cat tick_len  \\\n",
       "0        S     0      3    male     1    Mr      small   16-25        5   \n",
       "1        C     0      1  female     1   Mrs      small   36-45        5   \n",
       "2        S     0      3  female     0  Miss      alone   26-35        7   \n",
       "3        S     0      1  female     1   Mrs      small   26-35        6   \n",
       "4        S     0      3    male     0    Mr      alone   26-35        6   \n",
       "\n",
       "  Fare_cat  \n",
       "0     0-20  \n",
       "1    61-80  \n",
       "2     0-20  \n",
       "3    41-60  \n",
       "4     0-20  "
      ]
     },
     "execution_count": 35,
     "metadata": {},
     "output_type": "execute_result"
    }
   ],
   "source": [
    "data.head()"
   ]
  },
  {
   "cell_type": "code",
   "execution_count": 36,
   "metadata": {
    "collapsed": true
   },
   "outputs": [],
   "source": [
    "data = pd.get_dummies(data)"
   ]
  },
  {
   "cell_type": "code",
   "execution_count": 37,
   "metadata": {},
   "outputs": [
    {
     "name": "stdout",
     "output_type": "stream",
     "text": [
      "<class 'pandas.core.frame.DataFrame'>\n",
      "RangeIndex: 1309 entries, 0 to 1308\n",
      "Data columns (total 50 columns):\n",
      "Embarked_C            1309 non-null float64\n",
      "Embarked_Q            1309 non-null float64\n",
      "Embarked_S            1309 non-null float64\n",
      "Parch_0               1309 non-null float64\n",
      "Parch_1               1309 non-null float64\n",
      "Parch_2               1309 non-null float64\n",
      "Parch_3               1309 non-null float64\n",
      "Parch_4               1309 non-null float64\n",
      "Parch_5               1309 non-null float64\n",
      "Parch_6               1309 non-null float64\n",
      "Parch_9               1309 non-null float64\n",
      "Pclass_1              1309 non-null float64\n",
      "Pclass_2              1309 non-null float64\n",
      "Pclass_3              1309 non-null float64\n",
      "Sex_female            1309 non-null float64\n",
      "Sex_male              1309 non-null float64\n",
      "SibSp_0               1309 non-null float64\n",
      "SibSp_1               1309 non-null float64\n",
      "SibSp_2               1309 non-null float64\n",
      "SibSp_3               1309 non-null float64\n",
      "SibSp_4               1309 non-null float64\n",
      "SibSp_5               1309 non-null float64\n",
      "SibSp_8               1309 non-null float64\n",
      "Title_Master          1309 non-null float64\n",
      "Title_Miss            1309 non-null float64\n",
      "Title_Mr              1309 non-null float64\n",
      "Title_Mrs             1309 non-null float64\n",
      "Title_Professional    1309 non-null float64\n",
      "Title_Royal           1309 non-null float64\n",
      "Family_cat_alone      1309 non-null float64\n",
      "Family_cat_large      1309 non-null float64\n",
      "Family_cat_small      1309 non-null float64\n",
      "Age_cat_0-5           1309 non-null float64\n",
      "Age_cat_16-25         1309 non-null float64\n",
      "Age_cat_26-35         1309 non-null float64\n",
      "Age_cat_36-45         1309 non-null float64\n",
      "Age_cat_46+           1309 non-null float64\n",
      "Age_cat_6-15          1309 non-null float64\n",
      "tick_len_1            1309 non-null float64\n",
      "tick_len_3            1309 non-null float64\n",
      "tick_len_4            1309 non-null float64\n",
      "tick_len_5            1309 non-null float64\n",
      "tick_len_6            1309 non-null float64\n",
      "tick_len_7            1309 non-null float64\n",
      "Fare_cat_0-20         1309 non-null float64\n",
      "Fare_cat_101+         1309 non-null float64\n",
      "Fare_cat_21-40        1309 non-null float64\n",
      "Fare_cat_41-60        1309 non-null float64\n",
      "Fare_cat_61-80        1309 non-null float64\n",
      "Fare_cat_81-100       1309 non-null float64\n",
      "dtypes: float64(50)\n",
      "memory usage: 511.4 KB\n"
     ]
    }
   ],
   "source": [
    "data.info()"
   ]
  },
  {
   "cell_type": "code",
   "execution_count": 38,
   "metadata": {
    "collapsed": true
   },
   "outputs": [],
   "source": [
    "# drop one column from each set of dummy variables\n",
    "data = data.drop(['Pclass_1','Sex_male','SibSp_8','Parch_6','Embarked_S',\n",
    "                        'Title_Royal','Family_cat_large','Age_cat_46+','tick_len_1',\n",
    "                        'Fare_cat_101+'],1)"
   ]
  },
  {
   "cell_type": "code",
   "execution_count": 39,
   "metadata": {
    "collapsed": true
   },
   "outputs": [],
   "source": [
    "# Slice data back into train/test\n",
    "# Y_train data already removed from data df\n",
    "\n",
    "X_train = data.ix[0:890]\n",
    "X_test = data.ix[891:]"
   ]
  },
  {
   "cell_type": "code",
   "execution_count": 40,
   "metadata": {},
   "outputs": [
    {
     "data": {
      "text/plain": [
       "(891, 40)"
      ]
     },
     "execution_count": 40,
     "metadata": {},
     "output_type": "execute_result"
    }
   ],
   "source": [
    "X_train.shape"
   ]
  },
  {
   "cell_type": "code",
   "execution_count": 41,
   "metadata": {},
   "outputs": [
    {
     "data": {
      "text/plain": [
       "(418, 40)"
      ]
     },
     "execution_count": 41,
     "metadata": {},
     "output_type": "execute_result"
    }
   ],
   "source": [
    "X_test.shape"
   ]
  },
  {
   "cell_type": "code",
   "execution_count": 42,
   "metadata": {
    "collapsed": true
   },
   "outputs": [],
   "source": [
    "# Set up data with survived as first column\n",
    "train = X_train\n",
    "train.insert(0, 'Survived', Y_train)\n"
   ]
  },
  {
   "cell_type": "code",
   "execution_count": 43,
   "metadata": {},
   "outputs": [
    {
     "data": {
      "text/html": [
       "<div>\n",
       "<table border=\"1\" class=\"dataframe\">\n",
       "  <thead>\n",
       "    <tr style=\"text-align: right;\">\n",
       "      <th></th>\n",
       "      <th>Survived</th>\n",
       "      <th>Embarked_C</th>\n",
       "      <th>Embarked_Q</th>\n",
       "      <th>Parch_0</th>\n",
       "      <th>Parch_1</th>\n",
       "      <th>Parch_2</th>\n",
       "      <th>Parch_3</th>\n",
       "      <th>Parch_4</th>\n",
       "      <th>Parch_5</th>\n",
       "      <th>Parch_9</th>\n",
       "      <th>...</th>\n",
       "      <th>tick_len_3</th>\n",
       "      <th>tick_len_4</th>\n",
       "      <th>tick_len_5</th>\n",
       "      <th>tick_len_6</th>\n",
       "      <th>tick_len_7</th>\n",
       "      <th>Fare_cat_0-20</th>\n",
       "      <th>Fare_cat_21-40</th>\n",
       "      <th>Fare_cat_41-60</th>\n",
       "      <th>Fare_cat_61-80</th>\n",
       "      <th>Fare_cat_81-100</th>\n",
       "    </tr>\n",
       "  </thead>\n",
       "  <tbody>\n",
       "    <tr>\n",
       "      <th>0</th>\n",
       "      <td>0</td>\n",
       "      <td>0.0</td>\n",
       "      <td>0.0</td>\n",
       "      <td>1.0</td>\n",
       "      <td>0.0</td>\n",
       "      <td>0.0</td>\n",
       "      <td>0.0</td>\n",
       "      <td>0.0</td>\n",
       "      <td>0.0</td>\n",
       "      <td>0.0</td>\n",
       "      <td>...</td>\n",
       "      <td>0.0</td>\n",
       "      <td>0.0</td>\n",
       "      <td>1.0</td>\n",
       "      <td>0.0</td>\n",
       "      <td>0.0</td>\n",
       "      <td>1.0</td>\n",
       "      <td>0.0</td>\n",
       "      <td>0.0</td>\n",
       "      <td>0.0</td>\n",
       "      <td>0.0</td>\n",
       "    </tr>\n",
       "    <tr>\n",
       "      <th>1</th>\n",
       "      <td>1</td>\n",
       "      <td>1.0</td>\n",
       "      <td>0.0</td>\n",
       "      <td>1.0</td>\n",
       "      <td>0.0</td>\n",
       "      <td>0.0</td>\n",
       "      <td>0.0</td>\n",
       "      <td>0.0</td>\n",
       "      <td>0.0</td>\n",
       "      <td>0.0</td>\n",
       "      <td>...</td>\n",
       "      <td>0.0</td>\n",
       "      <td>0.0</td>\n",
       "      <td>1.0</td>\n",
       "      <td>0.0</td>\n",
       "      <td>0.0</td>\n",
       "      <td>0.0</td>\n",
       "      <td>0.0</td>\n",
       "      <td>0.0</td>\n",
       "      <td>1.0</td>\n",
       "      <td>0.0</td>\n",
       "    </tr>\n",
       "    <tr>\n",
       "      <th>2</th>\n",
       "      <td>1</td>\n",
       "      <td>0.0</td>\n",
       "      <td>0.0</td>\n",
       "      <td>1.0</td>\n",
       "      <td>0.0</td>\n",
       "      <td>0.0</td>\n",
       "      <td>0.0</td>\n",
       "      <td>0.0</td>\n",
       "      <td>0.0</td>\n",
       "      <td>0.0</td>\n",
       "      <td>...</td>\n",
       "      <td>0.0</td>\n",
       "      <td>0.0</td>\n",
       "      <td>0.0</td>\n",
       "      <td>0.0</td>\n",
       "      <td>1.0</td>\n",
       "      <td>1.0</td>\n",
       "      <td>0.0</td>\n",
       "      <td>0.0</td>\n",
       "      <td>0.0</td>\n",
       "      <td>0.0</td>\n",
       "    </tr>\n",
       "    <tr>\n",
       "      <th>3</th>\n",
       "      <td>1</td>\n",
       "      <td>0.0</td>\n",
       "      <td>0.0</td>\n",
       "      <td>1.0</td>\n",
       "      <td>0.0</td>\n",
       "      <td>0.0</td>\n",
       "      <td>0.0</td>\n",
       "      <td>0.0</td>\n",
       "      <td>0.0</td>\n",
       "      <td>0.0</td>\n",
       "      <td>...</td>\n",
       "      <td>0.0</td>\n",
       "      <td>0.0</td>\n",
       "      <td>0.0</td>\n",
       "      <td>1.0</td>\n",
       "      <td>0.0</td>\n",
       "      <td>0.0</td>\n",
       "      <td>0.0</td>\n",
       "      <td>1.0</td>\n",
       "      <td>0.0</td>\n",
       "      <td>0.0</td>\n",
       "    </tr>\n",
       "    <tr>\n",
       "      <th>4</th>\n",
       "      <td>0</td>\n",
       "      <td>0.0</td>\n",
       "      <td>0.0</td>\n",
       "      <td>1.0</td>\n",
       "      <td>0.0</td>\n",
       "      <td>0.0</td>\n",
       "      <td>0.0</td>\n",
       "      <td>0.0</td>\n",
       "      <td>0.0</td>\n",
       "      <td>0.0</td>\n",
       "      <td>...</td>\n",
       "      <td>0.0</td>\n",
       "      <td>0.0</td>\n",
       "      <td>0.0</td>\n",
       "      <td>1.0</td>\n",
       "      <td>0.0</td>\n",
       "      <td>1.0</td>\n",
       "      <td>0.0</td>\n",
       "      <td>0.0</td>\n",
       "      <td>0.0</td>\n",
       "      <td>0.0</td>\n",
       "    </tr>\n",
       "  </tbody>\n",
       "</table>\n",
       "<p>5 rows × 41 columns</p>\n",
       "</div>"
      ],
      "text/plain": [
       "   Survived  Embarked_C  Embarked_Q  Parch_0  Parch_1  Parch_2  Parch_3  \\\n",
       "0         0         0.0         0.0      1.0      0.0      0.0      0.0   \n",
       "1         1         1.0         0.0      1.0      0.0      0.0      0.0   \n",
       "2         1         0.0         0.0      1.0      0.0      0.0      0.0   \n",
       "3         1         0.0         0.0      1.0      0.0      0.0      0.0   \n",
       "4         0         0.0         0.0      1.0      0.0      0.0      0.0   \n",
       "\n",
       "   Parch_4  Parch_5  Parch_9       ...         tick_len_3  tick_len_4  \\\n",
       "0      0.0      0.0      0.0       ...                0.0         0.0   \n",
       "1      0.0      0.0      0.0       ...                0.0         0.0   \n",
       "2      0.0      0.0      0.0       ...                0.0         0.0   \n",
       "3      0.0      0.0      0.0       ...                0.0         0.0   \n",
       "4      0.0      0.0      0.0       ...                0.0         0.0   \n",
       "\n",
       "   tick_len_5  tick_len_6  tick_len_7  Fare_cat_0-20  Fare_cat_21-40  \\\n",
       "0         1.0         0.0         0.0            1.0             0.0   \n",
       "1         1.0         0.0         0.0            0.0             0.0   \n",
       "2         0.0         0.0         1.0            1.0             0.0   \n",
       "3         0.0         1.0         0.0            0.0             0.0   \n",
       "4         0.0         1.0         0.0            1.0             0.0   \n",
       "\n",
       "   Fare_cat_41-60  Fare_cat_61-80  Fare_cat_81-100  \n",
       "0             0.0             0.0              0.0  \n",
       "1             0.0             1.0              0.0  \n",
       "2             0.0             0.0              0.0  \n",
       "3             1.0             0.0              0.0  \n",
       "4             0.0             0.0              0.0  \n",
       "\n",
       "[5 rows x 41 columns]"
      ]
     },
     "execution_count": 43,
     "metadata": {},
     "output_type": "execute_result"
    }
   ],
   "source": [
    "train.head()"
   ]
  },
  {
   "cell_type": "code",
   "execution_count": 44,
   "metadata": {
    "collapsed": true
   },
   "outputs": [],
   "source": [
    "train_list = train.values.tolist()"
   ]
  },
  {
   "cell_type": "markdown",
   "metadata": {},
   "source": [
    "Add Survived as first column - to correspond to index[0]\n",
    "\n"
   ]
  },
  {
   "cell_type": "markdown",
   "metadata": {},
   "source": [
    "# Bayesian Approach"
   ]
  },
  {
   "cell_type": "markdown",
   "metadata": {},
   "source": [
    "## The Distribution Model\n",
    "\n",
    "The model contains 41 parameters as a type of logistic regression, so the model is set up as follows:\n",
    "\n",
    "### Likelihood\n",
    "\n",
    "$$g(x) =\\omega_0 + \\omega_1param_1 + \\omega_2param_2 + ... \\omega_{41} param_{41}$$ \n",
    "\n",
    "$$\\sigma(x) = \\frac{1}{1+e^{-x}}$$\n",
    "\n",
    "$$p = \\sigma(g) = \\frac{1}{1+e^{-g}}$$\n",
    "\n",
    "So the pdf of the likelihood becomes: \n",
    "$$log(\\sigma(g)) = -log({1+e^{-g}})$$\n",
    "\n",
    "### Prior\n",
    "\n",
    "For the Prior $\\pi$ we chose the following over $\\omega_0,\\omega_1, \\omega_2, \\omega_3, ..., \\omega_{40}$:\n",
    "\n",
    "$$ \\pi(\\omega) = \\frac{1}{2 \\pi} e^{-\\frac{1}{2}\\omega_0^2}e^{-\\frac{1}{2}\\omega_1^2} e^{-\\frac{1}{2}\\omega_2^2} ... e^{-\\frac{1}{2}\\omega_{41}^2} $$\n",
    "\n",
    "the log prior is:\n",
    "\n",
    "$$ =  -\\frac{1}{2}(\\omega_0^2 + \\omega_1^2+ \\omega_2^2 +...+ \\omega_{41}^2) $$\n"
   ]
  },
  {
   "cell_type": "markdown",
   "metadata": {},
   "source": [
    "### Constraints\n",
    "\n",
    "1. if status == 1 then return P\n",
    "2. if status == 0 then return 1-P\n"
   ]
  },
  {
   "cell_type": "code",
   "execution_count": 45,
   "metadata": {
    "collapsed": true
   },
   "outputs": [],
   "source": [
    "sigmoid = lambda g: 1./(1+np.exp(-g))\n",
    "\n",
    "def log_predictive(w,dd):\n",
    "    g = w[0] + np.sum([w[i]*dd[i] for i in range(1,40)])\n",
    "    if dd[0] == 1:\n",
    "        return np.log(sigmoid(g))\n",
    "    else:\n",
    "        return np.log(1 - sigmoid(g))\n",
    "\n",
    "def log_prior(w):\n",
    "    return -0.5 * np.sum([i**2 for i in w]) \n",
    "\n",
    "def lnprob(w):\n",
    "    return log_prior(w) + np.sum([log_predictive(w,d) for d in train_list])"
   ]
  },
  {
   "cell_type": "code",
   "execution_count": 46,
   "metadata": {
    "collapsed": true
   },
   "outputs": [],
   "source": [
    "import emcee\n",
    "import corner\n"
   ]
  },
  {
   "cell_type": "code",
   "execution_count": 47,
   "metadata": {},
   "outputs": [
    {
     "name": "stdout",
     "output_type": "stream",
     "text": [
      "Elapsed time for MCMCM run: 17606.772404\n"
     ]
    }
   ],
   "source": [
    "import timeit\n",
    "start_time = timeit.default_timer() # to time how long code takes to run\n",
    "\n",
    "\n",
    "# Run MCMC \n",
    "\n",
    "steps = 20000 # number of steps\n",
    "\n",
    "nwalkers = 100\n",
    "ndim = 41 # reduced by two variables (remove 1 each from sets of dummy variables)\n",
    "p0 = np.random.rand(nwalkers*ndim).reshape((nwalkers,ndim))\n",
    "sampler = emcee.EnsembleSampler(nwalkers, ndim, lnprob, threads = 75)\n",
    "pos, prob, state = sampler.run_mcmc(p0, 100)\n",
    "sampler.reset()\n",
    "pos, prob, state = sampler.run_mcmc(pos, steps)\n",
    "samples = sampler.flatchain\n",
    "\n",
    "elapsed = timeit.default_timer() - start_time \n",
    "\n",
    "print('Elapsed time for MCMCM run: {0}'.format(elapsed))\n"
   ]
  },
  {
   "cell_type": "code",
   "execution_count": 48,
   "metadata": {
    "collapsed": true
   },
   "outputs": [],
   "source": [
    "\n",
    "MC_samples = pd.DataFrame(samples)\n",
    "MC_samples.to_csv('MC_samples.csv')"
   ]
  },
  {
   "cell_type": "code",
   "execution_count": 70,
   "metadata": {
    "collapsed": true
   },
   "outputs": [],
   "source": [
    "X_test.to_csv('Prepped_test_data.csv')"
   ]
  },
  {
   "cell_type": "markdown",
   "metadata": {},
   "source": [
    "2m steps (20,000 steps by 100 walkers) took 4.9 hours on 75 threads - 3-4 processors"
   ]
  },
  {
   "cell_type": "code",
   "execution_count": 53,
   "metadata": {},
   "outputs": [
    {
     "data": {
      "text/html": [
       "<div>\n",
       "<table border=\"1\" class=\"dataframe\">\n",
       "  <thead>\n",
       "    <tr style=\"text-align: right;\">\n",
       "      <th></th>\n",
       "      <th>0</th>\n",
       "      <th>1</th>\n",
       "      <th>2</th>\n",
       "      <th>3</th>\n",
       "      <th>4</th>\n",
       "      <th>5</th>\n",
       "      <th>6</th>\n",
       "      <th>7</th>\n",
       "      <th>8</th>\n",
       "      <th>9</th>\n",
       "      <th>...</th>\n",
       "      <th>31</th>\n",
       "      <th>32</th>\n",
       "      <th>33</th>\n",
       "      <th>34</th>\n",
       "      <th>35</th>\n",
       "      <th>36</th>\n",
       "      <th>37</th>\n",
       "      <th>38</th>\n",
       "      <th>39</th>\n",
       "      <th>40</th>\n",
       "    </tr>\n",
       "  </thead>\n",
       "  <tbody>\n",
       "    <tr>\n",
       "      <th>count</th>\n",
       "      <td>2.000000e+06</td>\n",
       "      <td>2.000000e+06</td>\n",
       "      <td>2.000000e+06</td>\n",
       "      <td>2.000000e+06</td>\n",
       "      <td>2.000000e+06</td>\n",
       "      <td>2.000000e+06</td>\n",
       "      <td>2.000000e+06</td>\n",
       "      <td>2.000000e+06</td>\n",
       "      <td>2.000000e+06</td>\n",
       "      <td>2.000000e+06</td>\n",
       "      <td>...</td>\n",
       "      <td>2.000000e+06</td>\n",
       "      <td>2.000000e+06</td>\n",
       "      <td>2.000000e+06</td>\n",
       "      <td>2.000000e+06</td>\n",
       "      <td>2.000000e+06</td>\n",
       "      <td>2.000000e+06</td>\n",
       "      <td>2.000000e+06</td>\n",
       "      <td>2.000000e+06</td>\n",
       "      <td>2.000000e+06</td>\n",
       "      <td>2.000000e+06</td>\n",
       "    </tr>\n",
       "    <tr>\n",
       "      <th>mean</th>\n",
       "      <td>-1.021660e+00</td>\n",
       "      <td>4.015596e-01</td>\n",
       "      <td>3.005784e-01</td>\n",
       "      <td>4.564214e-02</td>\n",
       "      <td>-1.739459e-01</td>\n",
       "      <td>-1.140300e-01</td>\n",
       "      <td>5.697002e-01</td>\n",
       "      <td>-7.140974e-01</td>\n",
       "      <td>-4.464944e-01</td>\n",
       "      <td>-1.472388e-01</td>\n",
       "      <td>...</td>\n",
       "      <td>4.699496e-01</td>\n",
       "      <td>-3.289249e-01</td>\n",
       "      <td>1.138317e-01</td>\n",
       "      <td>-4.602218e-01</td>\n",
       "      <td>4.085285e-01</td>\n",
       "      <td>-5.136847e-01</td>\n",
       "      <td>-2.966859e-01</td>\n",
       "      <td>4.141188e-01</td>\n",
       "      <td>-3.447622e-01</td>\n",
       "      <td>5.432491e-02</td>\n",
       "    </tr>\n",
       "    <tr>\n",
       "      <th>std</th>\n",
       "      <td>7.472920e-01</td>\n",
       "      <td>3.273874e-01</td>\n",
       "      <td>3.410785e-01</td>\n",
       "      <td>5.452845e-01</td>\n",
       "      <td>5.331106e-01</td>\n",
       "      <td>5.658948e-01</td>\n",
       "      <td>8.662091e-01</td>\n",
       "      <td>9.258720e-01</td>\n",
       "      <td>9.958458e-01</td>\n",
       "      <td>1.037316e+00</td>\n",
       "      <td>...</td>\n",
       "      <td>7.584942e-01</td>\n",
       "      <td>5.035736e-01</td>\n",
       "      <td>4.731803e-01</td>\n",
       "      <td>4.725353e-01</td>\n",
       "      <td>5.827219e-01</td>\n",
       "      <td>4.812141e-01</td>\n",
       "      <td>4.006311e-01</td>\n",
       "      <td>4.713091e-01</td>\n",
       "      <td>4.852904e-01</td>\n",
       "      <td>1.007800e+00</td>\n",
       "    </tr>\n",
       "    <tr>\n",
       "      <th>min</th>\n",
       "      <td>-4.044378e+00</td>\n",
       "      <td>-8.783117e-01</td>\n",
       "      <td>-1.413826e+00</td>\n",
       "      <td>-2.299953e+00</td>\n",
       "      <td>-2.719265e+00</td>\n",
       "      <td>-2.552776e+00</td>\n",
       "      <td>-2.857220e+00</td>\n",
       "      <td>-5.582264e+00</td>\n",
       "      <td>-5.015430e+00</td>\n",
       "      <td>-4.476076e+00</td>\n",
       "      <td>...</td>\n",
       "      <td>-2.956656e+00</td>\n",
       "      <td>-2.846745e+00</td>\n",
       "      <td>-2.032260e+00</td>\n",
       "      <td>-2.582332e+00</td>\n",
       "      <td>-2.104896e+00</td>\n",
       "      <td>-2.573847e+00</td>\n",
       "      <td>-1.967893e+00</td>\n",
       "      <td>-1.770875e+00</td>\n",
       "      <td>-2.682482e+00</td>\n",
       "      <td>-4.348358e+00</td>\n",
       "    </tr>\n",
       "    <tr>\n",
       "      <th>25%</th>\n",
       "      <td>-1.534673e+00</td>\n",
       "      <td>1.796408e-01</td>\n",
       "      <td>6.938693e-02</td>\n",
       "      <td>-3.191812e-01</td>\n",
       "      <td>-5.338100e-01</td>\n",
       "      <td>-4.935161e-01</td>\n",
       "      <td>-2.652317e-02</td>\n",
       "      <td>-1.321052e+00</td>\n",
       "      <td>-1.034321e+00</td>\n",
       "      <td>-8.326701e-01</td>\n",
       "      <td>...</td>\n",
       "      <td>-3.647163e-02</td>\n",
       "      <td>-6.625536e-01</td>\n",
       "      <td>-2.086597e-01</td>\n",
       "      <td>-7.826486e-01</td>\n",
       "      <td>1.432732e-02</td>\n",
       "      <td>-8.393610e-01</td>\n",
       "      <td>-5.638508e-01</td>\n",
       "      <td>9.566712e-02</td>\n",
       "      <td>-6.741543e-01</td>\n",
       "      <td>-6.261466e-01</td>\n",
       "    </tr>\n",
       "    <tr>\n",
       "      <th>50%</th>\n",
       "      <td>-1.039842e+00</td>\n",
       "      <td>3.821698e-01</td>\n",
       "      <td>3.028912e-01</td>\n",
       "      <td>5.094317e-02</td>\n",
       "      <td>-1.732271e-01</td>\n",
       "      <td>-1.154303e-01</td>\n",
       "      <td>5.209836e-01</td>\n",
       "      <td>-6.798723e-01</td>\n",
       "      <td>-3.517231e-01</td>\n",
       "      <td>-1.232747e-01</td>\n",
       "      <td>...</td>\n",
       "      <td>4.743021e-01</td>\n",
       "      <td>-3.293378e-01</td>\n",
       "      <td>1.161746e-01</td>\n",
       "      <td>-4.547496e-01</td>\n",
       "      <td>4.072148e-01</td>\n",
       "      <td>-5.318098e-01</td>\n",
       "      <td>-3.079269e-01</td>\n",
       "      <td>4.111981e-01</td>\n",
       "      <td>-3.599897e-01</td>\n",
       "      <td>5.843217e-02</td>\n",
       "    </tr>\n",
       "    <tr>\n",
       "      <th>75%</th>\n",
       "      <td>-5.229369e-01</td>\n",
       "      <td>5.973884e-01</td>\n",
       "      <td>5.313675e-01</td>\n",
       "      <td>4.166705e-01</td>\n",
       "      <td>1.836620e-01</td>\n",
       "      <td>2.624269e-01</td>\n",
       "      <td>1.119486e+00</td>\n",
       "      <td>-7.819571e-02</td>\n",
       "      <td>2.310992e-01</td>\n",
       "      <td>5.620136e-01</td>\n",
       "      <td>...</td>\n",
       "      <td>9.809012e-01</td>\n",
       "      <td>3.581632e-03</td>\n",
       "      <td>4.323329e-01</td>\n",
       "      <td>-1.384329e-01</td>\n",
       "      <td>8.070354e-01</td>\n",
       "      <td>-2.140889e-01</td>\n",
       "      <td>-4.462093e-02</td>\n",
       "      <td>7.261046e-01</td>\n",
       "      <td>-3.412677e-02</td>\n",
       "      <td>7.488451e-01</td>\n",
       "    </tr>\n",
       "    <tr>\n",
       "      <th>max</th>\n",
       "      <td>2.172077e+00</td>\n",
       "      <td>2.381238e+00</td>\n",
       "      <td>2.116640e+00</td>\n",
       "      <td>2.761673e+00</td>\n",
       "      <td>2.417754e+00</td>\n",
       "      <td>2.713127e+00</td>\n",
       "      <td>4.487551e+00</td>\n",
       "      <td>3.234989e+00</td>\n",
       "      <td>3.055482e+00</td>\n",
       "      <td>4.644073e+00</td>\n",
       "      <td>...</td>\n",
       "      <td>3.974105e+00</td>\n",
       "      <td>1.916834e+00</td>\n",
       "      <td>2.163385e+00</td>\n",
       "      <td>1.701893e+00</td>\n",
       "      <td>2.863464e+00</td>\n",
       "      <td>1.758862e+00</td>\n",
       "      <td>1.828230e+00</td>\n",
       "      <td>2.530326e+00</td>\n",
       "      <td>2.049946e+00</td>\n",
       "      <td>4.483868e+00</td>\n",
       "    </tr>\n",
       "  </tbody>\n",
       "</table>\n",
       "<p>8 rows × 41 columns</p>\n",
       "</div>"
      ],
      "text/plain": [
       "                 0             1             2             3             4   \\\n",
       "count  2.000000e+06  2.000000e+06  2.000000e+06  2.000000e+06  2.000000e+06   \n",
       "mean  -1.021660e+00  4.015596e-01  3.005784e-01  4.564214e-02 -1.739459e-01   \n",
       "std    7.472920e-01  3.273874e-01  3.410785e-01  5.452845e-01  5.331106e-01   \n",
       "min   -4.044378e+00 -8.783117e-01 -1.413826e+00 -2.299953e+00 -2.719265e+00   \n",
       "25%   -1.534673e+00  1.796408e-01  6.938693e-02 -3.191812e-01 -5.338100e-01   \n",
       "50%   -1.039842e+00  3.821698e-01  3.028912e-01  5.094317e-02 -1.732271e-01   \n",
       "75%   -5.229369e-01  5.973884e-01  5.313675e-01  4.166705e-01  1.836620e-01   \n",
       "max    2.172077e+00  2.381238e+00  2.116640e+00  2.761673e+00  2.417754e+00   \n",
       "\n",
       "                 5             6             7             8             9   \\\n",
       "count  2.000000e+06  2.000000e+06  2.000000e+06  2.000000e+06  2.000000e+06   \n",
       "mean  -1.140300e-01  5.697002e-01 -7.140974e-01 -4.464944e-01 -1.472388e-01   \n",
       "std    5.658948e-01  8.662091e-01  9.258720e-01  9.958458e-01  1.037316e+00   \n",
       "min   -2.552776e+00 -2.857220e+00 -5.582264e+00 -5.015430e+00 -4.476076e+00   \n",
       "25%   -4.935161e-01 -2.652317e-02 -1.321052e+00 -1.034321e+00 -8.326701e-01   \n",
       "50%   -1.154303e-01  5.209836e-01 -6.798723e-01 -3.517231e-01 -1.232747e-01   \n",
       "75%    2.624269e-01  1.119486e+00 -7.819571e-02  2.310992e-01  5.620136e-01   \n",
       "max    2.713127e+00  4.487551e+00  3.234989e+00  3.055482e+00  4.644073e+00   \n",
       "\n",
       "           ...                 31            32            33            34  \\\n",
       "count      ...       2.000000e+06  2.000000e+06  2.000000e+06  2.000000e+06   \n",
       "mean       ...       4.699496e-01 -3.289249e-01  1.138317e-01 -4.602218e-01   \n",
       "std        ...       7.584942e-01  5.035736e-01  4.731803e-01  4.725353e-01   \n",
       "min        ...      -2.956656e+00 -2.846745e+00 -2.032260e+00 -2.582332e+00   \n",
       "25%        ...      -3.647163e-02 -6.625536e-01 -2.086597e-01 -7.826486e-01   \n",
       "50%        ...       4.743021e-01 -3.293378e-01  1.161746e-01 -4.547496e-01   \n",
       "75%        ...       9.809012e-01  3.581632e-03  4.323329e-01 -1.384329e-01   \n",
       "max        ...       3.974105e+00  1.916834e+00  2.163385e+00  1.701893e+00   \n",
       "\n",
       "                 35            36            37            38            39  \\\n",
       "count  2.000000e+06  2.000000e+06  2.000000e+06  2.000000e+06  2.000000e+06   \n",
       "mean   4.085285e-01 -5.136847e-01 -2.966859e-01  4.141188e-01 -3.447622e-01   \n",
       "std    5.827219e-01  4.812141e-01  4.006311e-01  4.713091e-01  4.852904e-01   \n",
       "min   -2.104896e+00 -2.573847e+00 -1.967893e+00 -1.770875e+00 -2.682482e+00   \n",
       "25%    1.432732e-02 -8.393610e-01 -5.638508e-01  9.566712e-02 -6.741543e-01   \n",
       "50%    4.072148e-01 -5.318098e-01 -3.079269e-01  4.111981e-01 -3.599897e-01   \n",
       "75%    8.070354e-01 -2.140889e-01 -4.462093e-02  7.261046e-01 -3.412677e-02   \n",
       "max    2.863464e+00  1.758862e+00  1.828230e+00  2.530326e+00  2.049946e+00   \n",
       "\n",
       "                 40  \n",
       "count  2.000000e+06  \n",
       "mean   5.432491e-02  \n",
       "std    1.007800e+00  \n",
       "min   -4.348358e+00  \n",
       "25%   -6.261466e-01  \n",
       "50%    5.843217e-02  \n",
       "75%    7.488451e-01  \n",
       "max    4.483868e+00  \n",
       "\n",
       "[8 rows x 41 columns]"
      ]
     },
     "execution_count": 53,
     "metadata": {},
     "output_type": "execute_result"
    }
   ],
   "source": [
    "MC_samples.describe()"
   ]
  },
  {
   "cell_type": "markdown",
   "metadata": {},
   "source": [
    "# Use LC project to set how to run test set\n"
   ]
  },
  {
   "cell_type": "markdown",
   "metadata": {},
   "source": [
    "# Results of Test Set: ..."
   ]
  },
  {
   "cell_type": "code",
   "execution_count": 65,
   "metadata": {
    "collapsed": true
   },
   "outputs": [],
   "source": [
    "def predictive(w,pas):  # w is MCMC samples, pas is passenger being evaluated\n",
    "    g = w[0] + np.sum([w[i]*pas[i] for i in range(1,40)])\n",
    "    return sigmoid(g)\n",
    "\n",
    "def E(f,MCMC_samples,passenger):\n",
    "    N = len(MCMC_samples)\n",
    "    return np.sum([f(s,passenger) for s in MCMC_samples])*1./N\n",
    "\n"
   ]
  },
  {
   "cell_type": "code",
   "execution_count": 66,
   "metadata": {},
   "outputs": [],
   "source": []
  },
  {
   "cell_type": "code",
   "execution_count": 67,
   "metadata": {},
   "outputs": [],
   "source": []
  },
  {
   "cell_type": "code",
   "execution_count": null,
   "metadata": {
    "collapsed": true
   },
   "outputs": [],
   "source": []
  }
 ],
 "metadata": {
  "anaconda-cloud": {},
  "kernelspec": {
   "display_name": "Python [Root]",
   "language": "python",
   "name": "Python [Root]"
  },
  "language_info": {
   "codemirror_mode": {
    "name": "ipython",
    "version": 2
   },
   "file_extension": ".py",
   "mimetype": "text/x-python",
   "name": "python",
   "nbconvert_exporter": "python",
   "pygments_lexer": "ipython2",
   "version": "2.7.11"
  }
 },
 "nbformat": 4,
 "nbformat_minor": 1
}
